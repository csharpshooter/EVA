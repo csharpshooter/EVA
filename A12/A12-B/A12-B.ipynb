{
  "nbformat": 4,
  "nbformat_minor": 0,
  "metadata": {
    "colab": {
      "name": "A12-B.ipynb",
      "provenance": [],
      "collapsed_sections": [],
      "authorship_tag": "ABX9TyPJHE3bIIoiFPAxKErwO1Gh",
      "include_colab_link": true
    },
    "kernelspec": {
      "name": "python3",
      "display_name": "Python 3"
    }
  },
  "cells": [
    {
      "cell_type": "markdown",
      "metadata": {
        "id": "view-in-github",
        "colab_type": "text"
      },
      "source": [
        "<a href=\"https://colab.research.google.com/github/csharpshooter/EVA/blob/master/A12/A12-B/A12-B.ipynb\" target=\"_parent\"><img src=\"https://colab.research.google.com/assets/colab-badge.svg\" alt=\"Open In Colab\"/></a>"
      ]
    },
    {
      "cell_type": "code",
      "metadata": {
        "id": "mOO2GkwhBsdE",
        "colab_type": "code",
        "outputId": "5f3be9e1-3737-41ed-8b79-1b9ada489052",
        "colab": {
          "base_uri": "https://localhost:8080/",
          "height": 34
        }
      },
      "source": [
        "from google.colab import drive\n",
        "drive.mount('/content/drive')"
      ],
      "execution_count": 32,
      "outputs": [
        {
          "output_type": "stream",
          "text": [
            "Drive already mounted at /content/drive; to attempt to forcibly remount, call drive.mount(\"/content/drive\", force_remount=True).\n"
          ],
          "name": "stdout"
        }
      ]
    },
    {
      "cell_type": "code",
      "metadata": {
        "id": "Mcfd77BzA0Qd",
        "colab_type": "code",
        "colab": {}
      },
      "source": [
        "import numpy as np\n",
        "import pandas as pd\n",
        "from matplotlib import pyplot as plt\n",
        "from sklearn.datasets.samples_generator import make_blobs\n",
        "from sklearn.cluster import KMeans"
      ],
      "execution_count": 0,
      "outputs": []
    },
    {
      "cell_type": "code",
      "metadata": {
        "id": "zSDvJt8_A7Qc",
        "colab_type": "code",
        "outputId": "7ef38bde-4b10-4dfc-ba11-f48db137be57",
        "colab": {
          "base_uri": "https://localhost:8080/",
          "height": 214
        }
      },
      "source": [
        "!ls\n",
        "# Changing working directory\n",
        "import os\n",
        "os.chdir('./drive/My Drive/EVA Assignments/A12-B/')"
      ],
      "execution_count": 34,
      "outputs": [
        {
          "output_type": "stream",
          "text": [
            "'AM-EVA12 Final via_export_coco Final.json'\n"
          ],
          "name": "stdout"
        },
        {
          "output_type": "error",
          "ename": "FileNotFoundError",
          "evalue": "ignored",
          "traceback": [
            "\u001b[0;31m---------------------------------------------------------------------------\u001b[0m",
            "\u001b[0;31mFileNotFoundError\u001b[0m                         Traceback (most recent call last)",
            "\u001b[0;32m<ipython-input-34-4af3a920a725>\u001b[0m in \u001b[0;36m<module>\u001b[0;34m()\u001b[0m\n\u001b[1;32m      2\u001b[0m \u001b[0;31m# Changing working directory\u001b[0m\u001b[0;34m\u001b[0m\u001b[0;34m\u001b[0m\u001b[0;34m\u001b[0m\u001b[0m\n\u001b[1;32m      3\u001b[0m \u001b[0;32mimport\u001b[0m \u001b[0mos\u001b[0m\u001b[0;34m\u001b[0m\u001b[0;34m\u001b[0m\u001b[0m\n\u001b[0;32m----> 4\u001b[0;31m \u001b[0mos\u001b[0m\u001b[0;34m.\u001b[0m\u001b[0mchdir\u001b[0m\u001b[0;34m(\u001b[0m\u001b[0;34m'./drive/My Drive/EVA Assignments/A12-B/'\u001b[0m\u001b[0;34m)\u001b[0m\u001b[0;34m\u001b[0m\u001b[0;34m\u001b[0m\u001b[0m\n\u001b[0m",
            "\u001b[0;31mFileNotFoundError\u001b[0m: [Errno 2] No such file or directory: './drive/My Drive/EVA Assignments/A12-B/'"
          ]
        }
      ]
    },
    {
      "cell_type": "code",
      "metadata": {
        "id": "Hpwa7P84Ccb9",
        "colab_type": "code",
        "colab": {}
      },
      "source": [
        "import json\n",
        "# Loading json file with images\n",
        "with open('AM-EVA12 Final via_export_coco Final.json') as f:\n",
        "  data = json.load(f)"
      ],
      "execution_count": 0,
      "outputs": []
    },
    {
      "cell_type": "code",
      "metadata": {
        "id": "3KKaMlhkCqvt",
        "colab_type": "code",
        "outputId": "e5efb98a-bbb4-42d7-cdae-a30a9f2bfbdd",
        "colab": {
          "base_uri": "https://localhost:8080/",
          "height": 527
        }
      },
      "source": [
        "# Checking keys\n",
        "data.keys()\n",
        "\n",
        "# Taking only images\n",
        "images = data['images']\n",
        "\n",
        "images[0:5]"
      ],
      "execution_count": 36,
      "outputs": [
        {
          "output_type": "execute_result",
          "data": {
            "text/plain": [
              "[{'date_captured': '',\n",
              "  'file_name': 'Alaskan-Malamute-1.jpg',\n",
              "  'height': 300,\n",
              "  'id': 0,\n",
              "  'license': 1,\n",
              "  'width': 400},\n",
              " {'date_captured': '',\n",
              "  'file_name': 'American-Hairless-Terrier-1.jpg',\n",
              "  'height': 300,\n",
              "  'id': 1,\n",
              "  'license': 1,\n",
              "  'width': 400},\n",
              " {'date_captured': '',\n",
              "  'file_name': 'Anatolian-Shepherd-Dog-1.jpg',\n",
              "  'height': 300,\n",
              "  'id': 2,\n",
              "  'license': 1,\n",
              "  'width': 400},\n",
              " {'date_captured': '',\n",
              "  'file_name': 'Bedlington-Terrier-1.jpg',\n",
              "  'height': 300,\n",
              "  'id': 3,\n",
              "  'license': 1,\n",
              "  'width': 400},\n",
              " {'date_captured': '',\n",
              "  'file_name': 'Belgian-Shepherd-Malinois-1.jpg',\n",
              "  'height': 300,\n",
              "  'id': 4,\n",
              "  'license': 1,\n",
              "  'width': 400}]"
            ]
          },
          "metadata": {
            "tags": []
          },
          "execution_count": 36
        }
      ]
    },
    {
      "cell_type": "code",
      "metadata": {
        "id": "oN7Up52rC6Sb",
        "colab_type": "code",
        "colab": {}
      },
      "source": [
        "# Creating empty dictionary to store images and annotations details\n",
        "img_dict = {}\n",
        "annotate = []\n",
        "\n",
        "# Storing values of images wrt id\n",
        "for img in images:\n",
        "  id = img['id']\n",
        "  img_dict[str(id)] = {'file_name': img['file_name'],'height' : img['height'], 'width' : img['width']}"
      ],
      "execution_count": 0,
      "outputs": []
    },
    {
      "cell_type": "code",
      "metadata": {
        "id": "K5-i9brfDIQW",
        "colab_type": "code",
        "outputId": "f095e13a-d73c-4cce-e9d1-9e703485c7f9",
        "colab": {
          "base_uri": "https://localhost:8080/",
          "height": 119
        }
      },
      "source": [
        "img_dict['0']\n",
        "\n",
        "# Selecting only annotations data from the complete data\n",
        "annotations = data['annotations']\n",
        "annotations[0]"
      ],
      "execution_count": 38,
      "outputs": [
        {
          "output_type": "execute_result",
          "data": {
            "text/plain": [
              "{'area': 79170,\n",
              " 'bbox': [8, 7, 273, 290],\n",
              " 'id': 0,\n",
              " 'image_id': '0',\n",
              " 'iscrowd': 0,\n",
              " 'segmentation': [8, 7, 281, 7, 281, 297, 8, 297]}"
            ]
          },
          "metadata": {
            "tags": []
          },
          "execution_count": 38
        }
      ]
    },
    {
      "cell_type": "code",
      "metadata": {
        "id": "C-c7XGBzDIrt",
        "colab_type": "code",
        "colab": {}
      },
      "source": [
        "for ant in annotations:\n",
        "  id = ant['image_id']\n",
        "  img_height = img_dict[id]['height']\n",
        "  img_width = img_dict[id]['width']\n",
        "  img_name = img_dict[id]['file_name']\n",
        "  bb_x, bb_y, bb_width, bb_height = ant['bbox']\n",
        "  img_height_norm = img_height/img_height\n",
        "  img_width_norm = img_width/img_width\n",
        "  bb_x_norm = bb_x/img_width\n",
        "  bb_y_norm = bb_y/img_height\n",
        "  bb_width_norm = bb_width/img_width\n",
        "  bb_height_norm = bb_height/img_height\n",
        "  a = {'file_name':img_name, 'img_height':img_height, 'img_width':img_width, 'img_height_norm' : img_height_norm, 'img_width_norm' : img_width_norm,\n",
        "       'bb_x_norm' : bb_x_norm, 'bb_y_norm':bb_y_norm, 'bb_width_norm' : bb_width_norm, 'bb_height_norm' : bb_height_norm}\n",
        "  annotate.append(a)"
      ],
      "execution_count": 0,
      "outputs": []
    },
    {
      "cell_type": "code",
      "metadata": {
        "id": "1AV7960LEIyH",
        "colab_type": "code",
        "outputId": "36c12dd3-392c-4035-f7f0-e759bcae2489",
        "colab": {
          "base_uri": "https://localhost:8080/",
          "height": 204
        }
      },
      "source": [
        "import pandas as pd\n",
        "df = pd.DataFrame(annotate)\n",
        "df.head()\n",
        "# df.shape"
      ],
      "execution_count": 40,
      "outputs": [
        {
          "output_type": "execute_result",
          "data": {
            "text/html": [
              "<div>\n",
              "<style scoped>\n",
              "    .dataframe tbody tr th:only-of-type {\n",
              "        vertical-align: middle;\n",
              "    }\n",
              "\n",
              "    .dataframe tbody tr th {\n",
              "        vertical-align: top;\n",
              "    }\n",
              "\n",
              "    .dataframe thead th {\n",
              "        text-align: right;\n",
              "    }\n",
              "</style>\n",
              "<table border=\"1\" class=\"dataframe\">\n",
              "  <thead>\n",
              "    <tr style=\"text-align: right;\">\n",
              "      <th></th>\n",
              "      <th>file_name</th>\n",
              "      <th>img_height</th>\n",
              "      <th>img_width</th>\n",
              "      <th>img_height_norm</th>\n",
              "      <th>img_width_norm</th>\n",
              "      <th>bb_x_norm</th>\n",
              "      <th>bb_y_norm</th>\n",
              "      <th>bb_width_norm</th>\n",
              "      <th>bb_height_norm</th>\n",
              "    </tr>\n",
              "  </thead>\n",
              "  <tbody>\n",
              "    <tr>\n",
              "      <th>0</th>\n",
              "      <td>Alaskan-Malamute-1.jpg</td>\n",
              "      <td>300</td>\n",
              "      <td>400</td>\n",
              "      <td>1.0</td>\n",
              "      <td>1.0</td>\n",
              "      <td>0.0200</td>\n",
              "      <td>0.023333</td>\n",
              "      <td>0.6825</td>\n",
              "      <td>0.966667</td>\n",
              "    </tr>\n",
              "    <tr>\n",
              "      <th>1</th>\n",
              "      <td>American-Hairless-Terrier-1.jpg</td>\n",
              "      <td>300</td>\n",
              "      <td>400</td>\n",
              "      <td>1.0</td>\n",
              "      <td>1.0</td>\n",
              "      <td>0.0175</td>\n",
              "      <td>0.020000</td>\n",
              "      <td>0.6750</td>\n",
              "      <td>0.970000</td>\n",
              "    </tr>\n",
              "    <tr>\n",
              "      <th>2</th>\n",
              "      <td>Anatolian-Shepherd-Dog-1.jpg</td>\n",
              "      <td>300</td>\n",
              "      <td>400</td>\n",
              "      <td>1.0</td>\n",
              "      <td>1.0</td>\n",
              "      <td>0.2325</td>\n",
              "      <td>0.083333</td>\n",
              "      <td>0.4775</td>\n",
              "      <td>0.896667</td>\n",
              "    </tr>\n",
              "    <tr>\n",
              "      <th>3</th>\n",
              "      <td>Bedlington-Terrier-1.jpg</td>\n",
              "      <td>300</td>\n",
              "      <td>400</td>\n",
              "      <td>1.0</td>\n",
              "      <td>1.0</td>\n",
              "      <td>0.0150</td>\n",
              "      <td>0.063333</td>\n",
              "      <td>0.8050</td>\n",
              "      <td>0.890000</td>\n",
              "    </tr>\n",
              "    <tr>\n",
              "      <th>4</th>\n",
              "      <td>Belgian-Shepherd-Malinois-1.jpg</td>\n",
              "      <td>300</td>\n",
              "      <td>400</td>\n",
              "      <td>1.0</td>\n",
              "      <td>1.0</td>\n",
              "      <td>0.1575</td>\n",
              "      <td>0.003333</td>\n",
              "      <td>0.8275</td>\n",
              "      <td>0.980000</td>\n",
              "    </tr>\n",
              "  </tbody>\n",
              "</table>\n",
              "</div>"
            ],
            "text/plain": [
              "                         file_name  img_height  ...  bb_width_norm  bb_height_norm\n",
              "0           Alaskan-Malamute-1.jpg         300  ...         0.6825        0.966667\n",
              "1  American-Hairless-Terrier-1.jpg         300  ...         0.6750        0.970000\n",
              "2     Anatolian-Shepherd-Dog-1.jpg         300  ...         0.4775        0.896667\n",
              "3         Bedlington-Terrier-1.jpg         300  ...         0.8050        0.890000\n",
              "4  Belgian-Shepherd-Malinois-1.jpg         300  ...         0.8275        0.980000\n",
              "\n",
              "[5 rows x 9 columns]"
            ]
          },
          "metadata": {
            "tags": []
          },
          "execution_count": 40
        }
      ]
    },
    {
      "cell_type": "code",
      "metadata": {
        "id": "U3nuxhsqEI71",
        "colab_type": "code",
        "outputId": "e68a6198-0551-4381-e478-0210c45ac0a5",
        "colab": {
          "base_uri": "https://localhost:8080/",
          "height": 204
        }
      },
      "source": [
        "df_updated = df[['file_name','bb_width_norm','bb_height_norm']]\n",
        "df_updated.head()"
      ],
      "execution_count": 41,
      "outputs": [
        {
          "output_type": "execute_result",
          "data": {
            "text/html": [
              "<div>\n",
              "<style scoped>\n",
              "    .dataframe tbody tr th:only-of-type {\n",
              "        vertical-align: middle;\n",
              "    }\n",
              "\n",
              "    .dataframe tbody tr th {\n",
              "        vertical-align: top;\n",
              "    }\n",
              "\n",
              "    .dataframe thead th {\n",
              "        text-align: right;\n",
              "    }\n",
              "</style>\n",
              "<table border=\"1\" class=\"dataframe\">\n",
              "  <thead>\n",
              "    <tr style=\"text-align: right;\">\n",
              "      <th></th>\n",
              "      <th>file_name</th>\n",
              "      <th>bb_width_norm</th>\n",
              "      <th>bb_height_norm</th>\n",
              "    </tr>\n",
              "  </thead>\n",
              "  <tbody>\n",
              "    <tr>\n",
              "      <th>0</th>\n",
              "      <td>Alaskan-Malamute-1.jpg</td>\n",
              "      <td>0.6825</td>\n",
              "      <td>0.966667</td>\n",
              "    </tr>\n",
              "    <tr>\n",
              "      <th>1</th>\n",
              "      <td>American-Hairless-Terrier-1.jpg</td>\n",
              "      <td>0.6750</td>\n",
              "      <td>0.970000</td>\n",
              "    </tr>\n",
              "    <tr>\n",
              "      <th>2</th>\n",
              "      <td>Anatolian-Shepherd-Dog-1.jpg</td>\n",
              "      <td>0.4775</td>\n",
              "      <td>0.896667</td>\n",
              "    </tr>\n",
              "    <tr>\n",
              "      <th>3</th>\n",
              "      <td>Bedlington-Terrier-1.jpg</td>\n",
              "      <td>0.8050</td>\n",
              "      <td>0.890000</td>\n",
              "    </tr>\n",
              "    <tr>\n",
              "      <th>4</th>\n",
              "      <td>Belgian-Shepherd-Malinois-1.jpg</td>\n",
              "      <td>0.8275</td>\n",
              "      <td>0.980000</td>\n",
              "    </tr>\n",
              "  </tbody>\n",
              "</table>\n",
              "</div>"
            ],
            "text/plain": [
              "                         file_name  bb_width_norm  bb_height_norm\n",
              "0           Alaskan-Malamute-1.jpg         0.6825        0.966667\n",
              "1  American-Hairless-Terrier-1.jpg         0.6750        0.970000\n",
              "2     Anatolian-Shepherd-Dog-1.jpg         0.4775        0.896667\n",
              "3         Bedlington-Terrier-1.jpg         0.8050        0.890000\n",
              "4  Belgian-Shepherd-Malinois-1.jpg         0.8275        0.980000"
            ]
          },
          "metadata": {
            "tags": []
          },
          "execution_count": 41
        }
      ]
    },
    {
      "cell_type": "code",
      "metadata": {
        "id": "yFFLuMrLEJCs",
        "colab_type": "code",
        "outputId": "71b72188-4d91-43c1-e7e3-46b115a7195c",
        "colab": {
          "base_uri": "https://localhost:8080/",
          "height": 282
        }
      },
      "source": [
        "from matplotlib import pyplot as plt\n",
        "plt.scatter(x=df_updated['bb_width_norm'],y=df_updated['bb_height_norm'])"
      ],
      "execution_count": 42,
      "outputs": [
        {
          "output_type": "execute_result",
          "data": {
            "text/plain": [
              "<matplotlib.collections.PathCollection at 0x7f575e900940>"
            ]
          },
          "metadata": {
            "tags": []
          },
          "execution_count": 42
        },
        {
          "output_type": "display_data",
          "data": {
            "image/png": "[encoded data removed]",
            "text/plain": [
              "<Figure size 432x288 with 1 Axes>"
            ]
          },
          "metadata": {
            "tags": [],
            "needs_background": "light"
          }
        }
      ]
    },
    {
      "cell_type": "code",
      "metadata": {
        "id": "mXXCiwJ9EuWF",
        "colab_type": "code",
        "outputId": "161a4a24-a97a-402f-8428-640bb6de08af",
        "colab": {
          "base_uri": "https://localhost:8080/",
          "height": 204
        }
      },
      "source": [
        "X = df_updated[df_updated.columns[1:]]\n",
        "X.head()"
      ],
      "execution_count": 43,
      "outputs": [
        {
          "output_type": "execute_result",
          "data": {
            "text/html": [
              "<div>\n",
              "<style scoped>\n",
              "    .dataframe tbody tr th:only-of-type {\n",
              "        vertical-align: middle;\n",
              "    }\n",
              "\n",
              "    .dataframe tbody tr th {\n",
              "        vertical-align: top;\n",
              "    }\n",
              "\n",
              "    .dataframe thead th {\n",
              "        text-align: right;\n",
              "    }\n",
              "</style>\n",
              "<table border=\"1\" class=\"dataframe\">\n",
              "  <thead>\n",
              "    <tr style=\"text-align: right;\">\n",
              "      <th></th>\n",
              "      <th>bb_width_norm</th>\n",
              "      <th>bb_height_norm</th>\n",
              "    </tr>\n",
              "  </thead>\n",
              "  <tbody>\n",
              "    <tr>\n",
              "      <th>0</th>\n",
              "      <td>0.6825</td>\n",
              "      <td>0.966667</td>\n",
              "    </tr>\n",
              "    <tr>\n",
              "      <th>1</th>\n",
              "      <td>0.6750</td>\n",
              "      <td>0.970000</td>\n",
              "    </tr>\n",
              "    <tr>\n",
              "      <th>2</th>\n",
              "      <td>0.4775</td>\n",
              "      <td>0.896667</td>\n",
              "    </tr>\n",
              "    <tr>\n",
              "      <th>3</th>\n",
              "      <td>0.8050</td>\n",
              "      <td>0.890000</td>\n",
              "    </tr>\n",
              "    <tr>\n",
              "      <th>4</th>\n",
              "      <td>0.8275</td>\n",
              "      <td>0.980000</td>\n",
              "    </tr>\n",
              "  </tbody>\n",
              "</table>\n",
              "</div>"
            ],
            "text/plain": [
              "   bb_width_norm  bb_height_norm\n",
              "0         0.6825        0.966667\n",
              "1         0.6750        0.970000\n",
              "2         0.4775        0.896667\n",
              "3         0.8050        0.890000\n",
              "4         0.8275        0.980000"
            ]
          },
          "metadata": {
            "tags": []
          },
          "execution_count": 43
        }
      ]
    },
    {
      "cell_type": "code",
      "metadata": {
        "id": "d6PSAwCxEugl",
        "colab_type": "code",
        "outputId": "4f8e6ac4-ccd2-44ea-85a5-0cf73137f892",
        "colab": {
          "base_uri": "https://localhost:8080/",
          "height": 295
        }
      },
      "source": [
        "wcss = []\n",
        "for i in range(1, 11):\n",
        "    kmeans = KMeans(n_clusters=i, init='k-means++', max_iter=500, n_init=10, random_state=0)\n",
        "    kmeans.fit(X)\n",
        "    wcss.append(kmeans.inertia_)\n",
        "plt.plot(range(1, 11), wcss)\n",
        "plt.title('Elbow Method')\n",
        "plt.xlabel('Number of clusters')\n",
        "plt.ylabel('WCSS')\n",
        "plt.show()"
      ],
      "execution_count": 44,
      "outputs": [
        {
          "output_type": "display_data",
          "data": {
            "image/png": "[encoded data removed]",
            "text/plain": [
              "<Figure size 432x288 with 1 Axes>"
            ]
          },
          "metadata": {
            "tags": [],
            "needs_background": "light"
          }
        }
      ]
    },
    {
      "cell_type": "code",
      "metadata": {
        "id": "hnk1vlfWEunm",
        "colab_type": "code",
        "outputId": "6a343adb-bfa8-4317-808e-92f42bbbeb9d",
        "colab": {
          "base_uri": "https://localhost:8080/",
          "height": 265
        }
      },
      "source": [
        "# From above method we select k=3\n",
        "\n",
        "kmeans = KMeans(n_clusters=3, init='k-means++', max_iter=500, n_init=10, random_state=0)\n",
        "pred_y = kmeans.fit_predict(X)\n",
        "plt.scatter(x=df_updated['bb_width_norm'],y=df_updated['bb_height_norm'])\n",
        "plt.scatter(kmeans.cluster_centers_[:, 0], kmeans.cluster_centers_[:, 1], s=300, c='red')\n",
        "plt.show()"
      ],
      "execution_count": 45,
      "outputs": [
        {
          "output_type": "display_data",
          "data": {
            "image/png": "[encoded data removed]",
            "text/plain": [
              "<Figure size 432x288 with 1 Axes>"
            ]
          },
          "metadata": {
            "tags": [],
            "needs_background": "light"
          }
        }
      ]
    },
    {
      "cell_type": "code",
      "metadata": {
        "id": "-IMGUL0KEuut",
        "colab_type": "code",
        "colab": {}
      },
      "source": [
        ""
      ],
      "execution_count": 0,
      "outputs": []
    }
  ]
}