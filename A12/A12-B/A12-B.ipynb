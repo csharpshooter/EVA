{
  "nbformat": 4,
  "nbformat_minor": 0,
  "metadata": {
    "colab": {
      "name": "A12-B.ipynb",
      "provenance": [],
      "collapsed_sections": [],
      "authorship_tag": "ABX9TyMPIOnOxwyayp8IlzT9gVck",
      "include_colab_link": true
    },
    "kernelspec": {
      "name": "python3",
      "display_name": "Python 3"
    }
  },
  "cells": [
    {
      "cell_type": "markdown",
      "metadata": {
        "id": "view-in-github",
        "colab_type": "text"
      },
      "source": [
        "<a href=\"https://colab.research.google.com/github/csharpshooter/EVA/blob/master/A12-B.ipynb\" target=\"_parent\"><img src=\"https://colab.research.google.com/assets/colab-badge.svg\" alt=\"Open In Colab\"/></a>"
      ]
    },
    {
      "cell_type": "code",
      "metadata": {
        "id": "mOO2GkwhBsdE",
        "colab_type": "code",
        "colab": {
          "base_uri": "https://localhost:8080/",
          "height": 122
        },
        "outputId": "4023322a-157b-497e-9d43-6194bed81524"
      },
      "source": [
        "from google.colab import drive\n",
        "drive.mount('/content/drive')"
      ],
      "execution_count": 1,
      "outputs": [
        {
          "output_type": "stream",
          "text": [
            "Go to this URL in a browser: https://accounts.google.com/o/oauth2/auth?client_id=947318989803-6bn6qk8qdgf4n4g3pfee6491hc0brc4i.apps.googleusercontent.com&redirect_uri=urn%3aietf%3awg%3aoauth%3a2.0%3aoob&response_type=code&scope=email%20https%3a%2f%2fwww.googleapis.com%2fauth%2fdocs.test%20https%3a%2f%2fwww.googleapis.com%2fauth%2fdrive%20https%3a%2f%2fwww.googleapis.com%2fauth%2fdrive.photos.readonly%20https%3a%2f%2fwww.googleapis.com%2fauth%2fpeopleapi.readonly\n",
            "\n",
            "Enter your authorization code:\n",
            "··········\n",
            "Mounted at /content/drive\n"
          ],
          "name": "stdout"
        }
      ]
    },
    {
      "cell_type": "code",
      "metadata": {
        "id": "Mcfd77BzA0Qd",
        "colab_type": "code",
        "colab": {
          "base_uri": "https://localhost:8080/",
          "height": 71
        },
        "outputId": "cf740910-3815-47ac-f7d9-ddaf4ac7a836"
      },
      "source": [
        "import numpy as np\n",
        "import pandas as pd\n",
        "from matplotlib import pyplot as plt\n",
        "from sklearn.datasets.samples_generator import make_blobs\n",
        "from sklearn.cluster import KMeans"
      ],
      "execution_count": 21,
      "outputs": [
        {
          "output_type": "stream",
          "text": [
            "/usr/local/lib/python3.6/dist-packages/sklearn/utils/deprecation.py:144: FutureWarning: The sklearn.datasets.samples_generator module is  deprecated in version 0.22 and will be removed in version 0.24. The corresponding classes / functions should instead be imported from sklearn.datasets. Anything that cannot be imported from sklearn.datasets is now part of the private API.\n",
            "  warnings.warn(message, FutureWarning)\n"
          ],
          "name": "stderr"
        }
      ]
    },
    {
      "cell_type": "code",
      "metadata": {
        "id": "zSDvJt8_A7Qc",
        "colab_type": "code",
        "colab": {
          "base_uri": "https://localhost:8080/",
          "height": 34
        },
        "outputId": "2c5100fd-737b-48f9-dc6f-54489105e2c6"
      },
      "source": [
        "!ls\n",
        "# Changing working directory\n",
        "import os\n",
        "os.chdir('./drive/My Drive/EVA Assignments/A12-B/')"
      ],
      "execution_count": 2,
      "outputs": [
        {
          "output_type": "stream",
          "text": [
            "drive  sample_data\n"
          ],
          "name": "stdout"
        }
      ]
    },
    {
      "cell_type": "code",
      "metadata": {
        "id": "Hpwa7P84Ccb9",
        "colab_type": "code",
        "colab": {}
      },
      "source": [
        "import json\n",
        "# Loading json file with images\n",
        "with open('AM-EVA12 Final via_export_coco Final.json') as f:\n",
        "  data = json.load(f)"
      ],
      "execution_count": 0,
      "outputs": []
    },
    {
      "cell_type": "code",
      "metadata": {
        "id": "3KKaMlhkCqvt",
        "colab_type": "code",
        "colab": {
          "base_uri": "https://localhost:8080/",
          "height": 527
        },
        "outputId": "80af9f92-0229-4234-da7a-04bc60eb41d9"
      },
      "source": [
        "# Checking keys\n",
        "data.keys()\n",
        "\n",
        "# Taking only images\n",
        "images = data['images']\n",
        "\n",
        "images[0:5]"
      ],
      "execution_count": 5,
      "outputs": [
        {
          "output_type": "execute_result",
          "data": {
            "text/plain": [
              "[{'date_captured': '',\n",
              "  'file_name': 'Alaskan-Malamute-1.jpg',\n",
              "  'height': 300,\n",
              "  'id': 0,\n",
              "  'license': 1,\n",
              "  'width': 400},\n",
              " {'date_captured': '',\n",
              "  'file_name': 'American-Hairless-Terrier-1.jpg',\n",
              "  'height': 300,\n",
              "  'id': 1,\n",
              "  'license': 1,\n",
              "  'width': 400},\n",
              " {'date_captured': '',\n",
              "  'file_name': 'Anatolian-Shepherd-Dog-1.jpg',\n",
              "  'height': 300,\n",
              "  'id': 2,\n",
              "  'license': 1,\n",
              "  'width': 400},\n",
              " {'date_captured': '',\n",
              "  'file_name': 'Bedlington-Terrier-1.jpg',\n",
              "  'height': 300,\n",
              "  'id': 3,\n",
              "  'license': 1,\n",
              "  'width': 400},\n",
              " {'date_captured': '',\n",
              "  'file_name': 'Belgian-Shepherd-Malinois-1.jpg',\n",
              "  'height': 300,\n",
              "  'id': 4,\n",
              "  'license': 1,\n",
              "  'width': 400}]"
            ]
          },
          "metadata": {
            "tags": []
          },
          "execution_count": 5
        }
      ]
    },
    {
      "cell_type": "code",
      "metadata": {
        "id": "oN7Up52rC6Sb",
        "colab_type": "code",
        "colab": {}
      },
      "source": [
        "# Creating empty dictionary to store images and annotations details\n",
        "img_dict = {}\n",
        "annotate = []\n",
        "\n",
        "# Storing values of images wrt id\n",
        "for img in images:\n",
        "  id = img['id']\n",
        "  img_dict[str(id)] = {'file_name': img['file_name'],'height' : img['height'], 'width' : img['width']}"
      ],
      "execution_count": 0,
      "outputs": []
    },
    {
      "cell_type": "code",
      "metadata": {
        "id": "K5-i9brfDIQW",
        "colab_type": "code",
        "colab": {
          "base_uri": "https://localhost:8080/",
          "height": 119
        },
        "outputId": "ec0a5105-fc52-40f0-dfe6-4e377ba47c90"
      },
      "source": [
        "img_dict['0']\n",
        "\n",
        "# Selecting only annotations data from the complete data\n",
        "annotations = data['annotations']\n",
        "annotations[0]"
      ],
      "execution_count": 9,
      "outputs": [
        {
          "output_type": "execute_result",
          "data": {
            "text/plain": [
              "{'area': 79170,\n",
              " 'bbox': [8, 7, 273, 290],\n",
              " 'id': 0,\n",
              " 'image_id': '0',\n",
              " 'iscrowd': 0,\n",
              " 'segmentation': [8, 7, 281, 7, 281, 297, 8, 297]}"
            ]
          },
          "metadata": {
            "tags": []
          },
          "execution_count": 9
        }
      ]
    },
    {
      "cell_type": "code",
      "metadata": {
        "id": "C-c7XGBzDIrt",
        "colab_type": "code",
        "colab": {}
      },
      "source": [
        "for ant in annotations:\n",
        "  id = ant['image_id']\n",
        "  img_height = img_dict[id]['height']\n",
        "  img_width = img_dict[id]['width']\n",
        "  img_name = img_dict[id]['file_name']\n",
        "  bb_x, bb_y, bb_width, bb_height = ant['bbox']\n",
        "  img_height_norm = img_height/img_height\n",
        "  img_width_norm = img_width/img_width\n",
        "  bb_x_norm = bb_x/img_width\n",
        "  bb_y_norm = bb_y/img_height\n",
        "  bb_width_norm = bb_width/img_width\n",
        "  bb_height_norm = bb_height/img_height\n",
        "  a = {'file_name':img_name, 'img_height':img_height, 'img_width':img_width, 'img_height_norm' : img_height_norm, 'img_width_norm' : img_width_norm,\n",
        "       'bb_x_norm' : bb_x_norm, 'bb_y_norm':bb_y_norm, 'bb_width_norm' : bb_width_norm, 'bb_height_norm' : bb_height_norm}\n",
        "  annotate.append(a)"
      ],
      "execution_count": 0,
      "outputs": []
    },
    {
      "cell_type": "code",
      "metadata": {
        "id": "1AV7960LEIyH",
        "colab_type": "code",
        "colab": {
          "base_uri": "https://localhost:8080/",
          "height": 204
        },
        "outputId": "c487128a-fca3-4f2b-a124-9a67464c2ac0"
      },
      "source": [
        "import pandas as pd\n",
        "df = pd.DataFrame(annotate)\n",
        "df.head()\n",
        "# df.shape"
      ],
      "execution_count": 15,
      "outputs": [
        {
          "output_type": "execute_result",
          "data": {
            "text/html": [
              "<div>\n",
              "<style scoped>\n",
              "    .dataframe tbody tr th:only-of-type {\n",
              "        vertical-align: middle;\n",
              "    }\n",
              "\n",
              "    .dataframe tbody tr th {\n",
              "        vertical-align: top;\n",
              "    }\n",
              "\n",
              "    .dataframe thead th {\n",
              "        text-align: right;\n",
              "    }\n",
              "</style>\n",
              "<table border=\"1\" class=\"dataframe\">\n",
              "  <thead>\n",
              "    <tr style=\"text-align: right;\">\n",
              "      <th></th>\n",
              "      <th>file_name</th>\n",
              "      <th>img_height</th>\n",
              "      <th>img_width</th>\n",
              "      <th>img_height_norm</th>\n",
              "      <th>img_width_norm</th>\n",
              "      <th>bb_x_norm</th>\n",
              "      <th>bb_y_norm</th>\n",
              "      <th>bb_width_norm</th>\n",
              "      <th>bb_height_norm</th>\n",
              "    </tr>\n",
              "  </thead>\n",
              "  <tbody>\n",
              "    <tr>\n",
              "      <th>0</th>\n",
              "      <td>Alaskan-Malamute-1.jpg</td>\n",
              "      <td>300</td>\n",
              "      <td>400</td>\n",
              "      <td>1.0</td>\n",
              "      <td>1.0</td>\n",
              "      <td>0.0200</td>\n",
              "      <td>0.023333</td>\n",
              "      <td>0.6825</td>\n",
              "      <td>0.966667</td>\n",
              "    </tr>\n",
              "    <tr>\n",
              "      <th>1</th>\n",
              "      <td>American-Hairless-Terrier-1.jpg</td>\n",
              "      <td>300</td>\n",
              "      <td>400</td>\n",
              "      <td>1.0</td>\n",
              "      <td>1.0</td>\n",
              "      <td>0.0175</td>\n",
              "      <td>0.020000</td>\n",
              "      <td>0.6750</td>\n",
              "      <td>0.970000</td>\n",
              "    </tr>\n",
              "    <tr>\n",
              "      <th>2</th>\n",
              "      <td>Anatolian-Shepherd-Dog-1.jpg</td>\n",
              "      <td>300</td>\n",
              "      <td>400</td>\n",
              "      <td>1.0</td>\n",
              "      <td>1.0</td>\n",
              "      <td>0.2325</td>\n",
              "      <td>0.083333</td>\n",
              "      <td>0.4775</td>\n",
              "      <td>0.896667</td>\n",
              "    </tr>\n",
              "    <tr>\n",
              "      <th>3</th>\n",
              "      <td>Bedlington-Terrier-1.jpg</td>\n",
              "      <td>300</td>\n",
              "      <td>400</td>\n",
              "      <td>1.0</td>\n",
              "      <td>1.0</td>\n",
              "      <td>0.0150</td>\n",
              "      <td>0.063333</td>\n",
              "      <td>0.8050</td>\n",
              "      <td>0.890000</td>\n",
              "    </tr>\n",
              "    <tr>\n",
              "      <th>4</th>\n",
              "      <td>Belgian-Shepherd-Malinois-1.jpg</td>\n",
              "      <td>300</td>\n",
              "      <td>400</td>\n",
              "      <td>1.0</td>\n",
              "      <td>1.0</td>\n",
              "      <td>0.1575</td>\n",
              "      <td>0.003333</td>\n",
              "      <td>0.8275</td>\n",
              "      <td>0.980000</td>\n",
              "    </tr>\n",
              "  </tbody>\n",
              "</table>\n",
              "</div>"
            ],
            "text/plain": [
              "                         file_name  img_height  ...  bb_width_norm  bb_height_norm\n",
              "0           Alaskan-Malamute-1.jpg         300  ...         0.6825        0.966667\n",
              "1  American-Hairless-Terrier-1.jpg         300  ...         0.6750        0.970000\n",
              "2     Anatolian-Shepherd-Dog-1.jpg         300  ...         0.4775        0.896667\n",
              "3         Bedlington-Terrier-1.jpg         300  ...         0.8050        0.890000\n",
              "4  Belgian-Shepherd-Malinois-1.jpg         300  ...         0.8275        0.980000\n",
              "\n",
              "[5 rows x 9 columns]"
            ]
          },
          "metadata": {
            "tags": []
          },
          "execution_count": 15
        }
      ]
    },
    {
      "cell_type": "code",
      "metadata": {
        "id": "U3nuxhsqEI71",
        "colab_type": "code",
        "colab": {
          "base_uri": "https://localhost:8080/",
          "height": 204
        },
        "outputId": "41fee37b-54d0-4432-b362-0e88d745ad2f"
      },
      "source": [
        "df_updated = df[['file_name','bb_width_norm','bb_height_norm']]\n",
        "df_updated.head()"
      ],
      "execution_count": 16,
      "outputs": [
        {
          "output_type": "execute_result",
          "data": {
            "text/html": [
              "<div>\n",
              "<style scoped>\n",
              "    .dataframe tbody tr th:only-of-type {\n",
              "        vertical-align: middle;\n",
              "    }\n",
              "\n",
              "    .dataframe tbody tr th {\n",
              "        vertical-align: top;\n",
              "    }\n",
              "\n",
              "    .dataframe thead th {\n",
              "        text-align: right;\n",
              "    }\n",
              "</style>\n",
              "<table border=\"1\" class=\"dataframe\">\n",
              "  <thead>\n",
              "    <tr style=\"text-align: right;\">\n",
              "      <th></th>\n",
              "      <th>file_name</th>\n",
              "      <th>bb_width_norm</th>\n",
              "      <th>bb_height_norm</th>\n",
              "    </tr>\n",
              "  </thead>\n",
              "  <tbody>\n",
              "    <tr>\n",
              "      <th>0</th>\n",
              "      <td>Alaskan-Malamute-1.jpg</td>\n",
              "      <td>0.6825</td>\n",
              "      <td>0.966667</td>\n",
              "    </tr>\n",
              "    <tr>\n",
              "      <th>1</th>\n",
              "      <td>American-Hairless-Terrier-1.jpg</td>\n",
              "      <td>0.6750</td>\n",
              "      <td>0.970000</td>\n",
              "    </tr>\n",
              "    <tr>\n",
              "      <th>2</th>\n",
              "      <td>Anatolian-Shepherd-Dog-1.jpg</td>\n",
              "      <td>0.4775</td>\n",
              "      <td>0.896667</td>\n",
              "    </tr>\n",
              "    <tr>\n",
              "      <th>3</th>\n",
              "      <td>Bedlington-Terrier-1.jpg</td>\n",
              "      <td>0.8050</td>\n",
              "      <td>0.890000</td>\n",
              "    </tr>\n",
              "    <tr>\n",
              "      <th>4</th>\n",
              "      <td>Belgian-Shepherd-Malinois-1.jpg</td>\n",
              "      <td>0.8275</td>\n",
              "      <td>0.980000</td>\n",
              "    </tr>\n",
              "  </tbody>\n",
              "</table>\n",
              "</div>"
            ],
            "text/plain": [
              "                         file_name  bb_width_norm  bb_height_norm\n",
              "0           Alaskan-Malamute-1.jpg         0.6825        0.966667\n",
              "1  American-Hairless-Terrier-1.jpg         0.6750        0.970000\n",
              "2     Anatolian-Shepherd-Dog-1.jpg         0.4775        0.896667\n",
              "3         Bedlington-Terrier-1.jpg         0.8050        0.890000\n",
              "4  Belgian-Shepherd-Malinois-1.jpg         0.8275        0.980000"
            ]
          },
          "metadata": {
            "tags": []
          },
          "execution_count": 16
        }
      ]
    },
    {
      "cell_type": "code",
      "metadata": {
        "id": "yFFLuMrLEJCs",
        "colab_type": "code",
        "colab": {
          "base_uri": "https://localhost:8080/",
          "height": 282
        },
        "outputId": "244c30f9-1508-4b67-88a9-232e2b00982d"
      },
      "source": [
        "from matplotlib import pyplot as plt\n",
        "plt.scatter(x=df_updated['bb_width_norm'],y=df_updated['bb_height_norm'])"
      ],
      "execution_count": 17,
      "outputs": [
        {
          "output_type": "execute_result",
          "data": {
            "text/plain": [
              "<matplotlib.collections.PathCollection at 0x7f5771dd53c8>"
            ]
          },
          "metadata": {
            "tags": []
          },
          "execution_count": 17
        },
        {
          "output_type": "display_data",
          "data": {
            "image/png": "[encoded data removed]",
            "text/plain": [
              "<Figure size 432x288 with 1 Axes>"
            ]
          },
          "metadata": {
            "tags": [],
            "needs_background": "light"
          }
        }
      ]
    },
    {
      "cell_type": "code",
      "metadata": {
        "id": "mXXCiwJ9EuWF",
        "colab_type": "code",
        "colab": {
          "base_uri": "https://localhost:8080/",
          "height": 204
        },
        "outputId": "0d713468-39a9-429f-c657-f65afd9ed000"
      },
      "source": [
        "X = df_updated[df_updated.columns[1:]]\n",
        "X.head()"
      ],
      "execution_count": 18,
      "outputs": [
        {
          "output_type": "execute_result",
          "data": {
            "text/html": [
              "<div>\n",
              "<style scoped>\n",
              "    .dataframe tbody tr th:only-of-type {\n",
              "        vertical-align: middle;\n",
              "    }\n",
              "\n",
              "    .dataframe tbody tr th {\n",
              "        vertical-align: top;\n",
              "    }\n",
              "\n",
              "    .dataframe thead th {\n",
              "        text-align: right;\n",
              "    }\n",
              "</style>\n",
              "<table border=\"1\" class=\"dataframe\">\n",
              "  <thead>\n",
              "    <tr style=\"text-align: right;\">\n",
              "      <th></th>\n",
              "      <th>bb_width_norm</th>\n",
              "      <th>bb_height_norm</th>\n",
              "    </tr>\n",
              "  </thead>\n",
              "  <tbody>\n",
              "    <tr>\n",
              "      <th>0</th>\n",
              "      <td>0.6825</td>\n",
              "      <td>0.966667</td>\n",
              "    </tr>\n",
              "    <tr>\n",
              "      <th>1</th>\n",
              "      <td>0.6750</td>\n",
              "      <td>0.970000</td>\n",
              "    </tr>\n",
              "    <tr>\n",
              "      <th>2</th>\n",
              "      <td>0.4775</td>\n",
              "      <td>0.896667</td>\n",
              "    </tr>\n",
              "    <tr>\n",
              "      <th>3</th>\n",
              "      <td>0.8050</td>\n",
              "      <td>0.890000</td>\n",
              "    </tr>\n",
              "    <tr>\n",
              "      <th>4</th>\n",
              "      <td>0.8275</td>\n",
              "      <td>0.980000</td>\n",
              "    </tr>\n",
              "  </tbody>\n",
              "</table>\n",
              "</div>"
            ],
            "text/plain": [
              "   bb_width_norm  bb_height_norm\n",
              "0         0.6825        0.966667\n",
              "1         0.6750        0.970000\n",
              "2         0.4775        0.896667\n",
              "3         0.8050        0.890000\n",
              "4         0.8275        0.980000"
            ]
          },
          "metadata": {
            "tags": []
          },
          "execution_count": 18
        }
      ]
    },
    {
      "cell_type": "code",
      "metadata": {
        "id": "d6PSAwCxEugl",
        "colab_type": "code",
        "colab": {
          "base_uri": "https://localhost:8080/",
          "height": 295
        },
        "outputId": "ad3ee9fa-6ac6-45bd-acf6-74ce604134ca"
      },
      "source": [
        "wcss = []\n",
        "for i in range(1, 11):\n",
        "    kmeans = KMeans(n_clusters=i, init='k-means++', max_iter=500, n_init=10, random_state=0)\n",
        "    kmeans.fit(X)\n",
        "    wcss.append(kmeans.inertia_)\n",
        "plt.plot(range(1, 11), wcss)\n",
        "plt.title('Elbow Method')\n",
        "plt.xlabel('Number of clusters')\n",
        "plt.ylabel('WCSS')\n",
        "plt.show()"
      ],
      "execution_count": 22,
      "outputs": [
        {
          "output_type": "display_data",
          "data": {
            "image/png": "[encoded data removed]",
            "text/plain": [
              "<Figure size 432x288 with 1 Axes>"
            ]
          },
          "metadata": {
            "tags": [],
            "needs_background": "light"
          }
        }
      ]
    },
    {
      "cell_type": "code",
      "metadata": {
        "id": "hnk1vlfWEunm",
        "colab_type": "code",
        "colab": {
          "base_uri": "https://localhost:8080/",
          "height": 265
        },
        "outputId": "499f18ae-6ff6-4096-c402-6669a5ecd489"
      },
      "source": [
        "# From above method we select k=4\n",
        "\n",
        "kmeans = KMeans(n_clusters=4, init='k-means++', max_iter=500, n_init=10, random_state=0)\n",
        "pred_y = kmeans.fit_predict(X)\n",
        "plt.scatter(x=df_updated['bb_width_norm'],y=df_updated['bb_height_norm'])\n",
        "plt.scatter(kmeans.cluster_centers_[:, 0], kmeans.cluster_centers_[:, 1], s=300, c='red')\n",
        "plt.show()"
      ],
      "execution_count": 31,
      "outputs": [
        {
          "output_type": "display_data",
          "data": {
            "image/png": "[encoded data removed]",
            "text/plain": [
              "<Figure size 432x288 with 1 Axes>"
            ]
          },
          "metadata": {
            "tags": [],
            "needs_background": "light"
          }
        }
      ]
    },
    {
      "cell_type": "code",
      "metadata": {
        "id": "-IMGUL0KEuut",
        "colab_type": "code",
        "colab": {}
      },
      "source": [
        ""
      ],
      "execution_count": 0,
      "outputs": []
    }
  ]
}