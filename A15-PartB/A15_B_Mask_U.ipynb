{
 "cells": [
  {
   "cell_type": "code",
   "execution_count": 1,
   "metadata": {
    "colab": {
     "base_uri": "https://localhost:8080/",
     "height": 34
    },
    "colab_type": "code",
    "id": "wePdX3_qnaPX",
    "outputId": "5fb7b5d6-f380-4ea7-809e-36c202ca5a7c",
    "pycharm": {
     "is_executing": false
    }
   },
   "outputs": [
    {
     "name": "stdout",
     "output_type": "stream",
     "text": [
      "Model execution started at:Thu Jul  2 19:44:12 2020\n"
     ]
    }
   ],
   "source": [
    "import datetime\n",
    "print(\"Model execution started at:\" + datetime.datetime.today().ctime())"
   ]
  },
  {
   "cell_type": "code",
   "execution_count": 2,
   "metadata": {
    "colab": {},
    "colab_type": "code",
    "id": "8kH16rnZ7wt_",
    "pycharm": {
     "is_executing": false
    }
   },
   "outputs": [],
   "source": [
    "from src.dataset.monocularhelper import MonocularHelper\n",
    "from src.imports import *\n",
    "import torch.optim.lr_scheduler\n",
    "import os\n",
    "\n",
    "\n",
    "%config IPCompleter.greedy=True\n",
    "%reload_ext autoreload"
   ]
  },
  {
   "cell_type": "code",
   "execution_count": 3,
   "metadata": {
    "colab": {
     "base_uri": "https://localhost:8080/",
     "height": 34
    },
    "colab_type": "code",
    "id": "yux5rWXgbMkL",
    "outputId": "9e9bc77c-2448-4565-f0ea-4f8a81e69cc2"
   },
   "outputs": [
    {
     "name": "stdout",
     "output_type": "stream",
     "text": [
      "1.5.1\n"
     ]
    }
   ],
   "source": [
    "import torch\n",
    "print(torch.__version__)"
   ]
  },
  {
   "cell_type": "code",
   "execution_count": 4,
   "metadata": {
    "colab": {},
    "colab_type": "code",
    "id": "_CINBFLZ6vmn"
   },
   "outputs": [],
   "source": [
    "%autoreload 2  # Autoreload all modules"
   ]
  },
  {
   "cell_type": "code",
   "execution_count": 5,
   "metadata": {
    "colab": {
     "base_uri": "https://localhost:8080/",
     "height": 357
    },
    "colab_type": "code",
    "id": "Y4pGGPo0H7QM",
    "outputId": "01b74a5c-522a-473c-c0f7-88095cb7b57a",
    "pycharm": {
     "is_executing": false
    }
   },
   "outputs": [
    {
     "name": "stdout",
     "output_type": "stream",
     "text": [
      "Thu Jul  2 19:44:14 2020       \n",
      "+-----------------------------------------------------------------------------+\n",
      "| NVIDIA-SMI 440.100      Driver Version: 440.100      CUDA Version: 10.2     |\n",
      "|-------------------------------+----------------------+----------------------+\n",
      "| GPU  Name        Persistence-M| Bus-Id        Disp.A | Volatile Uncorr. ECC |\n",
      "| Fan  Temp  Perf  Pwr:Usage/Cap|         Memory-Usage | GPU-Util  Compute M. |\n",
      "|===============================+======================+======================|\n",
      "|   0  GeForce GTX 1070    Off  | 00000000:01:00.0  On |                  N/A |\n",
      "| N/A   83C    P3    30W /  N/A |    460MiB /  8111MiB |      4%      Default |\n",
      "+-------------------------------+----------------------+----------------------+\n",
      "                                                                               \n",
      "+-----------------------------------------------------------------------------+\n",
      "| Processes:                                                       GPU Memory |\n",
      "|  GPU       PID   Type   Process name                             Usage      |\n",
      "|=============================================================================|\n",
      "|    0      1281      G   /usr/lib/xorg/Xorg                            59MiB |\n",
      "|    0      1835      G   /usr/lib/xorg/Xorg                           172MiB |\n",
      "|    0      2035      G   /usr/bin/gnome-shell                         146MiB |\n",
      "|    0      3046      G   ...p/pycharm-professional/201/jbr/bin/java     2MiB |\n",
      "|    0      4144      G   ...AAAAAAAAAAAACAAAAAAAAAA= --shared-files    55MiB |\n",
      "+-----------------------------------------------------------------------------+\n"
     ]
    }
   ],
   "source": [
    "def printgpuinfo():\n",
    "    gpu_info = !nvidia-smi\n",
    "    gpu_info = '\\n'.join(gpu_info)\n",
    "    if gpu_info.find('failed') >= 0:\n",
    "      print('Select the Runtime → \"Change runtime type\" menu to enable a GPU accelerator, ')\n",
    "      print('and then re-execute this cell.')\n",
    "    else:\n",
    "      print(gpu_info)\n",
    "    \n",
    "printgpuinfo()"
   ]
  },
  {
   "cell_type": "code",
   "execution_count": 6,
   "metadata": {
    "colab": {
     "base_uri": "https://localhost:8080/",
     "height": 119
    },
    "colab_type": "code",
    "id": "aqLk2ZwYH9PQ",
    "outputId": "369a9c3f-4581-44d6-d8b1-1caa0a40de1d",
    "pycharm": {
     "is_executing": false
    }
   },
   "outputs": [],
   "source": [
    "# def showsysteminfo():\n",
    "#     from psutil import virtual_memory\n",
    "#     ram_gb = virtual_memory().total / 1e9\n",
    "#     ram_gb_avail = virtual_memory().available / 1e9\n",
    "#     ram_gb_used = virtual_memory().active / 1e9\n",
    "#     print('Your runtime has {:.1f} gigabytes of available RAM\\n'.format(ram_gb))\n",
    "#     print('Your runtime has {:.1f} gigabytes of free RAM\\n'.format(ram_gb_avail))\n",
    "#     print('Your runtime has {:.1f} gigabytes of used RAM\\n'.format(ram_gb_used))    \n",
    "# showsysteminfo()"
   ]
  },
  {
   "cell_type": "code",
   "execution_count": 7,
   "metadata": {
    "colab": {
     "base_uri": "https://localhost:8080/",
     "height": 34
    },
    "colab_type": "code",
    "id": "0k-00HKfnaPs",
    "outputId": "4468ebca-17ba-4754-c962-a563b298c1de",
    "pycharm": {
     "is_executing": false
    }
   },
   "outputs": [
    {
     "name": "stdout",
     "output_type": "stream",
     "text": [
      "1.5.1\n"
     ]
    }
   ],
   "source": [
    "import torch\n",
    "print(torch.__version__)"
   ]
  },
  {
   "cell_type": "code",
   "execution_count": 8,
   "metadata": {
    "colab": {
     "base_uri": "https://localhost:8080/",
     "height": 34
    },
    "colab_type": "code",
    "id": "7ZuuPkUbnaPw",
    "outputId": "708b1f49-9e2e-4f6a-90ed-7796946a60cd",
    "pycharm": {
     "is_executing": false
    }
   },
   "outputs": [
    {
     "name": "stderr",
     "output_type": "stream",
     "text": [
      "100%|██████████| 40/40 [00:02<00:00, 13.65it/s]\n"
     ]
    }
   ],
   "source": [
    "helper = MonocularHelper()\n",
    "final_output = r'//media/abhijit/Windows/MonocularDS/OverLayedImages'\n",
    "final_output_mask = r'//media/abhijit/Windows/MonocularDS/OverLayedMask'\n",
    "final_output_dm = r'/media/abhijit/Windows/MonocularDS/OverLayedDepthMasks'\n",
    "bg_path = r'/media/abhijit/Windows/MonocularDS/Background'\n",
    "\n",
    "# final_output = r'/content/MonocularDS/OverLayedImages'\n",
    "# final_output_mask = r'/content/MonocularDS/OverLayedMask'\n",
    "# final_output_dm = r'/content/MonocularDS/OverLayedDepthMasks'\n",
    "# bg_path = r'/home/abhijit/EVARepo/MonocularDS/Background'\n",
    "\n",
    "train_data, train_label, test_data, test_label = helper.get_train_test_data(masks_folder=final_output_mask,\n",
    "                                                                            images_folder=final_output,\n",
    "                                                                            depth_masks_folder=final_output_dm,\n",
    "                                                                            no_of_batches=40,\n",
    "                                                                            total_images_count=400000,\n",
    "                                                                            bg_folder=bg_path)"
   ]
  },
  {
   "cell_type": "code",
   "execution_count": 9,
   "metadata": {
    "colab": {
     "base_uri": "https://localhost:8080/",
     "height": 68
    },
    "colab_type": "code",
    "id": "hWZPPo3yEHDW",
    "outputId": "3097e908-edd5-4df4-ca88-be067cb80fa3",
    "pycharm": {
     "is_executing": false
    }
   },
   "outputs": [
    {
     "name": "stdout",
     "output_type": "stream",
     "text": [
      "280000\n",
      "120000\n",
      "64\n"
     ]
    },
    {
     "name": "stderr",
     "output_type": "stream",
     "text": [
      "  0%|          | 390/120000 [00:00<00:30, 3895.69it/s]"
     ]
    },
    {
     "name": "stdout",
     "output_type": "stream",
     "text": [
      "\n",
      "Preloading masks from test dataset...\n"
     ]
    },
    {
     "name": "stderr",
     "output_type": "stream",
     "text": [
      "100%|██████████| 120000/120000 [00:20<00:00, 5778.84it/s]\n",
      "100%|██████████| 100/100 [00:00<00:00, 3836.44it/s]\n",
      "  1%|          | 623/120000 [00:00<00:19, 6228.57it/s]"
     ]
    },
    {
     "name": "stdout",
     "output_type": "stream",
     "text": [
      "\n",
      "Preloading bg from test dataset...\n",
      "\n",
      "Preloading bg_fg from test dataset...\n"
     ]
    },
    {
     "name": "stderr",
     "output_type": "stream",
     "text": [
      "100%|██████████| 120000/120000 [00:18<00:00, 6532.48it/s]"
     ]
    }
   ],
   "source": [
    "import asyncio\n",
    "import nest_asyncio\n",
    "nest_asyncio.apply()\n",
    "\n",
    "from src.dataset import MonocularDataset\n",
    "\n",
    "print(len(train_label))\n",
    "print(len(test_label))\n",
    "torch.backends.cudnn.benchmark = True\n",
    "\n",
    "batch_size = 64\n",
    "\n",
    "# !ulimit\n",
    "# !ulimit -n 500000\n",
    "# !ulimit\n",
    "\n",
    "monocular_ds_tr = MonocularDataset(images=train_data, labels=train_label, ds_type=\"train\", preload=False)\n",
    "monocular_ds_ts = MonocularDataset(images=test_data, labels=test_label, ds_type=\"test\", preload=True)\n",
    "image_size= 32\n",
    "train_transforms, test_transforms = preprochelper.PreprocHelper.getpytorchtransforms(image_net_mean, image_net_std, image_size)\n",
    "monocular_ds_tr.set_transforms(train_transforms)\n",
    "monocular_ds_ts.set_transforms(test_transforms)\n",
    "\n",
    "# ds = dst.Dataset()\n",
    "\n",
    "# train_dataset = ds.get_monocular_train_dataset(train_image_data=train_data, train_image_labels=train_label,\n",
    "#                                                train_transforms=train_transforms)\n",
    "\n",
    "# test_dataset = ds.get_monocular_test_dataset(test_image_labels=test_label, test_image_data=test_data,\n",
    "#                                              test_transforms=test_transforms)\n",
    "\n",
    "torch.manual_seed(1)\n",
    "\n",
    "dataloader = dl.Dataloader(traindataset=monocular_ds_tr, testdataset=monocular_ds_ts, batch_size=batch_size)\n",
    "train_loader = dataloader.gettraindataloader()\n",
    "test_loader = dataloader.gettestdataloader()"
   ]
  },
  {
   "cell_type": "code",
   "execution_count": 10,
   "metadata": {
    "colab": {
     "base_uri": "https://localhost:8080/",
     "height": 1000
    },
    "colab_type": "code",
    "id": "46ORlmIc6vnA",
    "outputId": "e85336c0-85d0-48c0-9d1c-44ea8a778f4a"
   },
   "outputs": [
    {
     "name": "stderr",
     "output_type": "stream",
     "text": [
      "\n"
     ]
    },
    {
     "name": "stdout",
     "output_type": "stream",
     "text": [
      "4375\n",
      "1875\n",
      "cuda\n",
      "Selected optimization level O2:  FP16 training with FP32 batchnorm and FP32 master weights.\n",
      "\n",
      "Defaults for this optimization level are:\n",
      "enabled                : True\n",
      "opt_level              : O2\n",
      "cast_model_type        : torch.float16\n",
      "patch_torch_functions  : False\n",
      "keep_batchnorm_fp32    : True\n",
      "master_weights         : True\n",
      "loss_scale             : dynamic\n",
      "Processing user overrides (additional kwargs that are not None)...\n",
      "After processing overrides, optimization options are:\n",
      "enabled                : True\n",
      "opt_level              : O2\n",
      "cast_model_type        : torch.float16\n",
      "patch_torch_functions  : False\n",
      "keep_batchnorm_fp32    : True\n",
      "master_weights         : True\n",
      "loss_scale             : dynamic\n",
      "3\n"
     ]
    },
    {
     "data": {
      "image/png": "[encoded data removed]",
      "text/plain": [
       "<Figure size 720x720 with 1 Axes>"
      ]
     },
     "metadata": {},
     "output_type": "display_data"
    },
    {
     "name": "stdout",
     "output_type": "stream",
     "text": [
      "----------------------------------------------------------------\n",
      "        Layer (type)               Output Shape         Param #\n",
      "================================================================\n",
      "            Conv2d-1            [-1, 3, 64, 64]              27\n",
      "            Conv2d-2           [-1, 64, 64, 64]             256\n",
      "DepthwiseSeparableConv2d-3           [-1, 64, 64, 64]               0\n",
      "              ReLU-4           [-1, 64, 64, 64]               0\n",
      "            Conv2d-5           [-1, 64, 64, 64]             576\n",
      "            Conv2d-6          [-1, 128, 64, 64]           8,320\n",
      "DepthwiseSeparableConv2d-7          [-1, 128, 64, 64]               0\n",
      "              ReLU-8          [-1, 128, 64, 64]               0\n",
      "            Conv2d-9          [-1, 128, 64, 64]           1,152\n",
      "           Conv2d-10          [-1, 128, 64, 64]          16,512\n",
      "DepthwiseSeparableConv2d-11          [-1, 128, 64, 64]               0\n",
      "      BatchNorm2d-12          [-1, 128, 64, 64]             256\n",
      "           Conv2d-13          [-1, 128, 64, 64]           1,152\n",
      "           Conv2d-14          [-1, 128, 64, 64]          16,512\n",
      "DepthwiseSeparableConv2d-15          [-1, 128, 64, 64]               0\n",
      "      BatchNorm2d-16          [-1, 128, 64, 64]             256\n",
      "           Conv2d-17          [-1, 128, 64, 64]           1,152\n",
      "           Conv2d-18          [-1, 128, 64, 64]          16,512\n",
      "DepthwiseSeparableConv2d-19          [-1, 128, 64, 64]               0\n",
      "           Conv2d-20          [-1, 128, 64, 64]           1,152\n",
      "           Conv2d-21          [-1, 128, 64, 64]          16,512\n",
      "DepthwiseSeparableConv2d-22          [-1, 128, 64, 64]               0\n",
      "       BasicBlock-23          [-1, 128, 64, 64]               0\n",
      "           Conv2d-24            [-1, 3, 64, 64]              27\n",
      "           Conv2d-25           [-1, 64, 64, 64]             256\n",
      "DepthwiseSeparableConv2d-26           [-1, 64, 64, 64]               0\n",
      "             ReLU-27           [-1, 64, 64, 64]               0\n",
      "           Conv2d-28           [-1, 64, 64, 64]             576\n",
      "           Conv2d-29          [-1, 128, 64, 64]           8,320\n",
      "DepthwiseSeparableConv2d-30          [-1, 128, 64, 64]               0\n",
      "             ReLU-31          [-1, 128, 64, 64]               0\n",
      "           Conv2d-32          [-1, 128, 64, 64]           1,152\n",
      "           Conv2d-33          [-1, 128, 64, 64]          16,512\n",
      "DepthwiseSeparableConv2d-34          [-1, 128, 64, 64]               0\n",
      "      BatchNorm2d-35          [-1, 128, 64, 64]             256\n",
      "           Conv2d-36          [-1, 128, 64, 64]           1,152\n",
      "           Conv2d-37          [-1, 128, 64, 64]          16,512\n",
      "DepthwiseSeparableConv2d-38          [-1, 128, 64, 64]               0\n",
      "      BatchNorm2d-39          [-1, 128, 64, 64]             256\n",
      "           Conv2d-40          [-1, 128, 64, 64]           1,152\n",
      "           Conv2d-41          [-1, 128, 64, 64]          16,512\n",
      "DepthwiseSeparableConv2d-42          [-1, 128, 64, 64]               0\n",
      "           Conv2d-43          [-1, 128, 64, 64]           1,152\n",
      "           Conv2d-44          [-1, 128, 64, 64]          16,512\n",
      "DepthwiseSeparableConv2d-45          [-1, 128, 64, 64]               0\n",
      "       BasicBlock-46          [-1, 128, 64, 64]               0\n",
      "           Conv2d-47            [-1, 3, 64, 64]           6,912\n",
      "================================================================\n",
      "Total params: 167,606\n",
      "Trainable params: 167,606\n",
      "Non-trainable params: 0\n",
      "----------------------------------------------------------------\n",
      "Input size (MB): 0.19\n",
      "Forward/backward pass size (MB): 160.28\n",
      "Params size (MB): 0.64\n",
      "Estimated Total Size (MB): 161.11\n",
      "----------------------------------------------------------------\n",
      "201211\n"
     ]
    }
   ],
   "source": [
    "print(len(train_loader))\n",
    "print(len(test_loader))\n",
    "\n",
    "# !ulimit -n\n",
    "\n",
    "import torch.nn as nn\n",
    "from apex import amp\n",
    "# use_cuda = torch.cuda.is_available()\n",
    "# device = torch.device(\"cuda\" if use_cuda else \"cpu\")\n",
    "\n",
    "cnn_model, device = utils.Utils.createMonocularModel()\n",
    "optimizer = utils.Utils.createoptimizer(cnn_model, lr=0.01, momentum=0.9, weight_decay=1e-5)\n",
    "\n",
    "for name, param in cnn_model.named_parameters():    \n",
    "    if \"bn1\" in name or \"bn2\" in name:\n",
    "        nn.init.constant_(param, 0)        \n",
    "    elif \"weight\" in name:\n",
    "        nn.init.kaiming_normal_(param, mode=\"fan_out\", nonlinearity=\"relu\")\n",
    "    elif \"bias\" in name:\n",
    "        nn.init.constant_(param, 0)\n",
    "\n",
    "# last_epoch = 1\n",
    "# path = \"/home/abhijit/Downloads/finalmodelwithdata-Mask-224k.pt\"\n",
    "# if os.path.exists(path):\n",
    "#     checkpoint, epoch, model_state_dict, optimizer_state_dict, train_losses, train_acc, test_losses, test_acc \\\n",
    "#         , test_losses, lr_data, class_correct, class_total = utils.Utils.loadmodel(path)\n",
    "#     cnn_model.load_state_dict(model_state_dict)\n",
    "#     # optimizer.load_state_dict(optimizer_state_dict)\n",
    "#     last_epoch = last_epoch + checkpoint['epoch']\n",
    "\n",
    "# cnn_model = torchvision.models.resnet18(pretrained=False, num_classes=2).cuda(device)\n",
    "\n",
    "cnn_model, optimizer = amp.initialize(cnn_model, optimizer, opt_level=\"O2\")\n",
    "sample = next(iter(train_loader))\n",
    "\n",
    "print(len(sample[0]))\n",
    "imgs = sample[0][0]\n",
    "utils.Utils.show(imgs, nrow=4)\n",
    "# imgs = sample[0][1]\n",
    "# utils.Utils.show(imgs, nrow=4)\n",
    "# imgs = sample[0][2]\n",
    "# utils.Utils.show(imgs, nrow=4)\n",
    "# imgs = sample[0][3]\n",
    "# utils.Utils.show(imgs, nrow=4)\n",
    "# # grid_tensor = torchvision.utils.make_grid(imgs, 2)\n",
    "# grid_image = grid_tensor.permute(1, 2, 0)\n",
    "\n",
    "# utils.Utils.show(imgs, nrow=4)\n",
    "\n",
    "train_model = train.TrainModel()\n",
    "# print(cnn_model)\n",
    "# print(cnn_model.parameters())\n",
    "\n",
    "# optimizer = utils.Utils.createoptimizer(cnn_model, lr=0.01, momentum=0.9, weight_decay=1e-5)\n",
    "\n",
    "# scheduler = torch.optim.lr_scheduler.StepLR(optimizer, step_size=1, gamma=0.01)\n",
    "\n",
    "scheduler = torch.optim.lr_scheduler.ReduceLROnPlateau(optimizer, mode='min', factor=0.05, patience=1, \n",
    "            verbose=True, threshold=0.01, threshold_mode='rel', cooldown=0, min_lr=0, eps=1e-08)\n",
    "\n",
    "lr_data = []\n",
    "class_correct = list(0. for i in range(10))\n",
    "class_total = list(0. for i in range(10))\n",
    "epochs = 10\n",
    "\n",
    "train_model.showmodelsummary(model=cnn_model,input_size=[(4,3,64,64)])\n",
    "def count_parameters(model):\n",
    "    return sum(p.numel() for p in model.parameters() if p.requires_grad)\n",
    "\n",
    "print(count_parameters(cnn_model))"
   ]
  },
  {
   "cell_type": "code",
   "execution_count": null,
   "metadata": {
    "colab": {
     "base_uri": "https://localhost:8080/",
     "height": 476
    },
    "colab_type": "code",
    "id": "hXXAg8hbK16u",
    "outputId": "627c4630-5d70-4528-8d81-8d13e76ae842",
    "pycharm": {
     "is_executing": false
    }
   },
   "outputs": [
    {
     "name": "stderr",
     "output_type": "stream",
     "text": [
      "  0%|          | 0/4375 [00:00<?, ?it/s]"
     ]
    },
    {
     "name": "stdout",
     "output_type": "stream",
     "text": [
      "EPOCH: 1\n"
     ]
    },
    {
     "name": "stderr",
     "output_type": "stream",
     "text": [
      "  0%|          | 3/4375 [00:00<42:19,  1.72it/s]"
     ]
    },
    {
     "name": "stdout",
     "output_type": "stream",
     "text": [
      "Gradient overflow.  Skipping step, loss scaler 0 reducing loss scale to 32768.0\n",
      "Train Epoch: 1 [0/280000 (0%)]\tLoss: 0.927547\n",
      "IOU : 0.031005185920776786\n"
     ]
    },
    {
     "name": "stderr",
     "output_type": "stream",
     "text": [
      "  1%|          | 23/4375 [00:02<07:32,  9.61it/s]"
     ]
    },
    {
     "name": "stdout",
     "output_type": "stream",
     "text": [
      "Gradient overflow.  Skipping step, loss scaler 0 reducing loss scale to 16384.0\n"
     ]
    },
    {
     "name": "stderr",
     "output_type": "stream",
     "text": [
      " 11%|█▏        | 502/4375 [01:04<09:34,  6.74it/s]"
     ]
    },
    {
     "name": "stdout",
     "output_type": "stream",
     "text": [
      "Train Epoch: 1 [1500/280000 (11%)]\tLoss: 0.458587\n",
      "IOU : 0.3161373760597787\n"
     ]
    },
    {
     "name": "stderr",
     "output_type": "stream",
     "text": [
      " 23%|██▎       | 1002/4375 [02:26<08:21,  6.73it/s]"
     ]
    },
    {
     "name": "stdout",
     "output_type": "stream",
     "text": [
      "Train Epoch: 1 [3000/280000 (23%)]\tLoss: 0.347298\n",
      "IOU : 0.39215686274509803\n"
     ]
    },
    {
     "name": "stderr",
     "output_type": "stream",
     "text": [
      " 34%|███▍      | 1502/4375 [03:49<07:11,  6.66it/s]"
     ]
    },
    {
     "name": "stdout",
     "output_type": "stream",
     "text": [
      "Train Epoch: 1 [4500/280000 (34%)]\tLoss: 0.323233\n",
      "IOU : 0.4\n"
     ]
    },
    {
     "name": "stderr",
     "output_type": "stream",
     "text": [
      " 46%|████▌     | 2003/4375 [05:11<06:47,  5.82it/s]"
     ]
    },
    {
     "name": "stdout",
     "output_type": "stream",
     "text": [
      "Train Epoch: 1 [6000/280000 (46%)]\tLoss: 0.292442\n",
      "IOU : 0.45650896267998825\n"
     ]
    },
    {
     "name": "stderr",
     "output_type": "stream",
     "text": [
      " 57%|█████▋    | 2503/4375 [06:35<04:33,  6.85it/s]"
     ]
    },
    {
     "name": "stdout",
     "output_type": "stream",
     "text": [
      "Train Epoch: 1 [7500/280000 (57%)]\tLoss: 0.256410\n",
      "IOU : 0.44908651262761956\n"
     ]
    },
    {
     "name": "stderr",
     "output_type": "stream",
     "text": [
      " 69%|██████▊   | 3003/4375 [07:57<03:18,  6.90it/s]"
     ]
    },
    {
     "name": "stdout",
     "output_type": "stream",
     "text": [
      "Train Epoch: 1 [9000/280000 (69%)]\tLoss: 0.243339\n",
      "IOU : 0.4661842471472307\n"
     ]
    },
    {
     "name": "stderr",
     "output_type": "stream",
     "text": [
      " 80%|████████  | 3503/4375 [09:18<02:10,  6.66it/s]"
     ]
    },
    {
     "name": "stdout",
     "output_type": "stream",
     "text": [
      "Train Epoch: 1 [10500/280000 (80%)]\tLoss: 0.235944\n",
      "IOU : 0.5183344526527871\n"
     ]
    },
    {
     "name": "stderr",
     "output_type": "stream",
     "text": [
      " 91%|█████████▏| 4003/4375 [10:40<00:53,  6.94it/s]"
     ]
    },
    {
     "name": "stdout",
     "output_type": "stream",
     "text": [
      "Train Epoch: 1 [12000/280000 (91%)]\tLoss: 0.237603\n",
      "IOU : 0.4886561954624782\n"
     ]
    },
    {
     "name": "stderr",
     "output_type": "stream",
     "text": [
      " 94%|█████████▍| 4104/4375 [10:56<00:38,  6.99it/s]"
     ]
    },
    {
     "name": "stdout",
     "output_type": "stream",
     "text": [
      "Gradient overflow.  Skipping step, loss scaler 0 reducing loss scale to 32768.0\n"
     ]
    },
    {
     "name": "stderr",
     "output_type": "stream",
     "text": [
      "100%|██████████| 4375/4375 [11:41<00:00,  6.23it/s]\n",
      "  0%|          | 0/1875 [00:00<?, ?it/s]"
     ]
    },
    {
     "name": "stdout",
     "output_type": "stream",
     "text": [
      "Batch IOU = 0.006765438113597451\n"
     ]
    },
    {
     "name": "stderr",
     "output_type": "stream",
     "text": [
      "  0%|          | 1/1875 [00:04<2:22:31,  4.56s/it]"
     ]
    },
    {
     "name": "stdout",
     "output_type": "stream",
     "text": [
      "Test Epoch: 1 [0/120000 (0%)]\tLoss: 0.462205\n",
      "IOU : 0.2661762383995977\n"
     ]
    },
    {
     "name": "stderr",
     "output_type": "stream",
     "text": [
      " 27%|██▋       | 501/1875 [16:14<43:38,  1.91s/it]  "
     ]
    },
    {
     "name": "stdout",
     "output_type": "stream",
     "text": [
      "Test Epoch: 1 [1500/120000 (27%)]\tLoss: 0.470107\n",
      "IOU : 0.2551767635641125\n"
     ]
    },
    {
     "name": "stderr",
     "output_type": "stream",
     "text": [
      " 53%|█████▎    | 1001/1875 [32:11<27:41,  1.90s/it]"
     ]
    },
    {
     "name": "stdout",
     "output_type": "stream",
     "text": [
      "Test Epoch: 1 [3000/120000 (53%)]\tLoss: 0.548496\n",
      "IOU : 0.22043254753199007\n"
     ]
    },
    {
     "name": "stderr",
     "output_type": "stream",
     "text": [
      " 65%|██████▍   | 1211/1875 [38:51<21:27,  1.94s/it]"
     ]
    }
   ],
   "source": [
    "from torch.nn import CrossEntropyLoss, BCEWithLogitsLoss, MSELoss, L1Loss, SmoothL1Loss\n",
    "from src.train.customlossfunction import DiceLoss\n",
    "# loss_fn = BCEWithLogitsLoss()\n",
    "# loss_fn = L1Loss()\n",
    "# loss_fn = MSELoss()\n",
    "loss_fn = DiceLoss()\n",
    "# loss_fn = SmoothL1Loss()\n",
    "show_output = False\n",
    "infer_index = 2\n",
    "for epoch in range(1, epochs):\n",
    "    print(\"EPOCH:\", epoch)\n",
    "    \n",
    "    #tr_out,\n",
    "    train_loss, total_iou = train_model.train_Monocular(cnn_model, device, train_loader, optimizer, epoch, loss_fn, show_output, infer_index)\n",
    "    ts_out, dice_loss = train_model.test_Monocular(cnn_model, device, test_loader, class_correct, class_total, epoch, lr_data, loss_fn, \n",
    "                                        show_output, infer_index)\n",
    "    \n",
    "    from src.utils.utils import Utils\n",
    "\n",
    "#     Utils.show(tr_out.detach().cpu(), nrow=4)\n",
    "    Utils.show(ts_out.detach().cpu(), nrow=4)\n",
    "    \n",
    "    scheduler.step(dice_loss)\n",
    "\n",
    "    for param_groups in optimizer.param_groups:\n",
    "        print(\"Learning rate =\", param_groups['lr'], \" for epoch: \", epoch + 1)  # print LR for different epochs\n",
    "        lr_data.append(param_groups['lr'])\n",
    "\n",
    "# train_losses, train_acc = train_model.gettraindata()\n",
    "# test_losses, test_acc = train_model.gettestdata()\n",
    "# utils.Utils.savemodel(model=cnn_model, epoch=epochs, path=\"savedmodels/finalmodelwithdata.pt\",\n",
    "#                       optimizer_state_dict=optimizer.state_dict\n",
    "#                       , train_losses=train_losses, train_acc=train_acc, test_acc=test_acc,\n",
    "#                       test_losses=test_losses, lr_data=lr_data, class_correct=class_correct, class_total=class_total)"
   ]
  },
  {
   "cell_type": "code",
   "execution_count": null,
   "metadata": {
    "colab": {
     "base_uri": "https://localhost:8080/",
     "height": 1000
    },
    "colab_type": "code",
    "id": "_wcKL4ew2inW",
    "outputId": "0813861b-70c0-4799-aab4-662944ba4806"
   },
   "outputs": [],
   "source": [
    "image_size= 64\n",
    "train_transforms, test_transforms = preprochelper.PreprocHelper.getpytorchtransforms(image_net_mean, image_net_std, image_size)\n",
    "monocular_ds_tr.set_transforms(train_transforms)\n",
    "monocular_ds_ts.set_transforms(test_transforms)\n",
    "optimizer = utils.Utils.createoptimizer(cnn_model, lr=0.01, momentum=0.9, weight_decay=1e-5)\n",
    "\n",
    "from torch.nn import CrossEntropyLoss, BCEWithLogitsLoss, MSELoss, L1Loss, SmoothL1Loss\n",
    "from src.train.customlossfunction import DiceLoss\n",
    "# loss_fn = BCEWithLogitsLoss()\n",
    "# loss_fn = L1Loss()\n",
    "# loss_fn = MSELoss()\n",
    "loss_fn = DiceLoss()\n",
    "# loss_fn = SmoothL1Loss()\n",
    "show_output = False\n",
    "infer_index = 2\n",
    "for epoch in range(1, epochs):\n",
    "    print(\"EPOCH:\", epoch)\n",
    "    \n",
    "    tr_out,train_loss, total_iou  = train_model.train_Monocular(cnn_model, device, train_loader, optimizer, epoch, loss_fn, show_output, infer_index)\n",
    "    ts_out, dice_loss = train_model.test_Monocular(cnn_model, device, test_loader, class_correct, class_total, epoch, lr_data, loss_fn, \n",
    "                                        show_output, infer_index)\n",
    "    \n",
    "    from src.utils.utils import Utils\n",
    "\n",
    "    Utils.show(tr_out.detach().cpu(), nrow=4)\n",
    "    Utils.show(ts_out.detach().cpu(), nrow=4)\n",
    "    \n",
    "    scheduler.step(total_iou)\n",
    "\n",
    "    for param_groups in optimizer.param_groups:\n",
    "        print(\"Learning rate =\", param_groups['lr'], \" for epoch: \", epoch + 1)  # print LR for different epochs\n",
    "        lr_data.append(param_groups['lr'])"
   ]
  },
  {
   "cell_type": "code",
   "execution_count": 15,
   "metadata": {
    "colab": {},
    "colab_type": "code",
    "id": "nAoqWyUs2i5E"
   },
   "outputs": [],
   "source": [
    "train_losses, train_acc = train_model.gettraindata()\n",
    "test_losses, test_acc = train_model.gettestdata()\n",
    "utils.Utils.savemodel(model=cnn_model, epoch=epochs, path=\"finalmodelwithdata-Mask-64K.pt\",\n",
    "                      optimizer_state_dict=optimizer.state_dict\n",
    "                      , train_losses=train_losses, train_acc=train_acc, test_acc=test_acc,\n",
    "                      test_losses=test_losses, lr_data=lr_data, class_correct=class_correct, class_total=class_total)"
   ]
  },
  {
   "cell_type": "code",
   "execution_count": null,
   "metadata": {
    "colab": {
     "base_uri": "https://localhost:8080/",
     "height": 1000
    },
    "colab_type": "code",
    "id": "I-mb8yMG2jDD",
    "outputId": "653cd8b8-8b20-4551-cf79-7ffeb2a59e8b"
   },
   "outputs": [],
   "source": [
    "image_size= 96\n",
    "train_transforms, test_transforms = preprochelper.PreprocHelper.getpytorchtransforms(image_net_mean, image_net_std, image_size)\n",
    "monocular_ds.set_transforms(train_transforms)\n",
    "optimizer = utils.Utils.createoptimizer(cnn_model, lr=0.01, momentum=0.9, weight_decay=1e-5)\n",
    "\n",
    "from torch.nn import CrossEntropyLoss, BCEWithLogitsLoss, MSELoss, L1Loss, SmoothL1Loss\n",
    "from src.train.customlossfunction import DiceLoss\n",
    "# loss_fn = BCEWithLogitsLoss()\n",
    "# loss_fn = L1Loss()\n",
    "# loss_fn = MSELoss()\n",
    "loss_fn = DiceLoss()\n",
    "# loss_fn = SmoothL1Loss()\n",
    "show_output = False\n",
    "infer_index = 2\n",
    "for epoch in range(1, epochs):\n",
    "    print(\"EPOCH:\", epoch)\n",
    "    \n",
    "    tr_out,train_loss, total_iou =train_model.train_Monocular(cnn_model, device, train_loader, optimizer, epoch, loss_fn, show_output, infer_index)\n",
    "    # ts_out, dice_loss = train_model.test_Monocular(cnn_model, device, test_loader, class_correct, class_total, epoch, lr_data, loss_fn, \n",
    "    #                                     show_output, infer_index)\n",
    "    \n",
    "    from src.utils.utils import Utils\n",
    "\n",
    "    Utils.show(tr_out.detach().cpu(), nrow=4)\n",
    "    # Utils.show(ts_out.detach().cpu(), nrow=4)\n",
    "    \n",
    "    scheduler.step(total_iou)\n",
    "\n",
    "    for param_groups in optimizer.param_groups:\n",
    "        print(\"Learning rate =\", param_groups['lr'], \" for epoch: \", epoch + 1)  # print LR for different epochs\n",
    "        lr_data.append(param_groups['lr'])"
   ]
  },
  {
   "cell_type": "code",
   "execution_count": 17,
   "metadata": {
    "colab": {},
    "colab_type": "code",
    "id": "qTvyFVXG2jMb"
   },
   "outputs": [],
   "source": [
    "train_losses, train_acc = train_model.gettraindata()\n",
    "test_losses, test_acc = train_model.gettestdata()\n",
    "utils.Utils.savemodel(model=cnn_model, epoch=epochs, path=\"finalmodelwithdata-Mask-96K.pt\",\n",
    "                      optimizer_state_dict=optimizer.state_dict\n",
    "                      , train_losses=train_losses, train_acc=train_acc, test_acc=test_acc,\n",
    "                      test_losses=test_losses, lr_data=lr_data, class_correct=class_correct, class_total=class_total)"
   ]
  },
  {
   "cell_type": "code",
   "execution_count": null,
   "metadata": {
    "colab": {
     "base_uri": "https://localhost:8080/",
     "height": 1000
    },
    "colab_type": "code",
    "id": "8N1s7vXW6vnH",
    "outputId": "beedba38-c92e-4ccb-f2ab-3381f93811d6"
   },
   "outputs": [],
   "source": [
    "image_size= 128\n",
    "train_transforms, test_transforms = preprochelper.PreprocHelper.getpytorchtransforms(image_net_mean, image_net_std, image_size)\n",
    "monocular_ds.set_transforms(train_transforms)\n",
    "optimizer = utils.Utils.createoptimizer(cnn_model, lr=0.01, momentum=0.9, weight_decay=1e-5)\n",
    "\n",
    "from torch.nn import CrossEntropyLoss, BCEWithLogitsLoss, MSELoss, L1Loss, SmoothL1Loss\n",
    "from src.train.customlossfunction import DiceLoss\n",
    "# loss_fn = BCEWithLogitsLoss()\n",
    "# loss_fn = L1Loss()\n",
    "# loss_fn = MSELoss()\n",
    "loss_fn = DiceLoss()\n",
    "# loss_fn = SmoothL1Loss()\n",
    "show_output = False\n",
    "infer_index = 2\n",
    "for epoch in range(1, epochs):\n",
    "    print(\"EPOCH:\", epoch)\n",
    "    \n",
    "    tr_out,train_loss, total_iou =train_model.train_Monocular(cnn_model, device, train_loader, optimizer, epoch, loss_fn, show_output, infer_index)\n",
    "    # ts_out, dice_loss = train_model.test_Monocular(cnn_model, device, test_loader, class_correct, class_total, epoch, lr_data, loss_fn, \n",
    "    #                                     show_output, infer_index)\n",
    "    \n",
    "    from src.utils.utils import Utils\n",
    "\n",
    "    Utils.show(tr_out.detach().cpu(), nrow=4)\n",
    "    # Utils.show(ts_out.detach().cpu(), nrow=4)\n",
    "    \n",
    "    scheduler.step(total_iou)\n",
    "\n",
    "    for param_groups in optimizer.param_groups:\n",
    "        print(\"Learning rate =\", param_groups['lr'], \" for epoch: \", epoch + 1)  # print LR for different epochs\n",
    "        lr_data.append(param_groups['lr'])"
   ]
  },
  {
   "cell_type": "code",
   "execution_count": 19,
   "metadata": {
    "colab": {},
    "colab_type": "code",
    "id": "6CUQvxP96voc"
   },
   "outputs": [],
   "source": [
    "train_losses, train_acc = train_model.gettraindata()\n",
    "test_losses, test_acc = train_model.gettestdata()\n",
    "utils.Utils.savemodel(model=cnn_model, epoch=epochs, path=\"finalmodelwithdata-Mask-128K.pt\",\n",
    "                      optimizer_state_dict=optimizer.state_dict\n",
    "                      , train_losses=train_losses, train_acc=train_acc, test_acc=test_acc,\n",
    "                      test_losses=test_losses, lr_data=lr_data, class_correct=class_correct, class_total=class_total)"
   ]
  },
  {
   "cell_type": "code",
   "execution_count": null,
   "metadata": {
    "colab": {
     "base_uri": "https://localhost:8080/",
     "height": 1000
    },
    "colab_type": "code",
    "id": "jOzbjIi33AiX",
    "outputId": "95f43db8-4157-440d-a19c-2016df9f9345"
   },
   "outputs": [],
   "source": [
    "epochs=3\n",
    "image_size= 160\n",
    "train_transforms, test_transforms = preprochelper.PreprocHelper.getpytorchtransforms(image_net_mean, image_net_std, image_size)\n",
    "monocular_ds.set_transforms(train_transforms)\n",
    "optimizer = utils.Utils.createoptimizer(cnn_model, lr=0.01, momentum=0.9, weight_decay=1e-5)\n",
    "\n",
    "from torch.nn import CrossEntropyLoss, BCEWithLogitsLoss, MSELoss, L1Loss, SmoothL1Loss\n",
    "from src.train.customlossfunction import DiceLoss\n",
    "# loss_fn = BCEWithLogitsLoss()\n",
    "# loss_fn = L1Loss()\n",
    "# loss_fn = MSELoss()\n",
    "loss_fn = DiceLoss()\n",
    "# loss_fn = SmoothL1Loss()\n",
    "show_output = False\n",
    "infer_index = 2\n",
    "for epoch in range(1, epochs):\n",
    "    print(\"EPOCH:\", epoch)\n",
    "    \n",
    "    tr_out,train_loss, total_iou = train_model.train_Monocular(cnn_model, device, train_loader, optimizer, epoch, loss_fn, show_output, infer_index)\n",
    "    # ts_out, dice_loss = train_model.test_Monocular(cnn_model, device, test_loader, class_correct, class_total, epoch, lr_data, loss_fn, \n",
    "    #                                     show_output, infer_index)\n",
    "    \n",
    "    from src.utils.utils import Utils\n",
    "\n",
    "    Utils.show(tr_out.detach().cpu(), nrow=4)\n",
    "    # Utils.show(ts_out.detach().cpu(), nrow=4)\n",
    "    \n",
    "    scheduler.step(total_iou)\n",
    "\n",
    "    for param_groups in optimizer.param_groups:\n",
    "        print(\"Learning rate =\", param_groups['lr'], \" for epoch: \", epoch + 1)  # print LR for different epochs\n",
    "        lr_data.append(param_groups['lr'])"
   ]
  },
  {
   "cell_type": "code",
   "execution_count": null,
   "metadata": {
    "colab": {},
    "colab_type": "code",
    "id": "6Q1qskEM3ApL"
   },
   "outputs": [],
   "source": [
    "train_losses, train_acc = train_model.gettraindata()\n",
    "test_losses, test_acc = train_model.gettestdata()\n",
    "utils.Utils.savemodel(model=cnn_model, epoch=epochs, path=\"finalmodelwithdata-Mask-160K.pt\",\n",
    "                      optimizer_state_dict=optimizer.state_dict\n",
    "                      , train_losses=train_losses, train_acc=train_acc, test_acc=test_acc,\n",
    "                      test_losses=test_losses, lr_data=lr_data, class_correct=class_correct, class_total=class_total)"
   ]
  },
  {
   "cell_type": "code",
   "execution_count": null,
   "metadata": {
    "colab": {},
    "colab_type": "code",
    "id": "Fv0tys073KoU"
   },
   "outputs": [],
   "source": [
    "image_size= 192\n",
    "train_transforms, test_transforms = preprochelper.PreprocHelper.getpytorchtransforms(image_net_mean, image_net_std, image_size)\n",
    "monocular_ds.set_transforms(train_transforms)\n",
    "optimizer = utils.Utils.createoptimizer(cnn_model, lr=0.01, momentum=0.9, weight_decay=1e-5)\n",
    "\n",
    "from torch.nn import CrossEntropyLoss, BCEWithLogitsLoss, MSELoss, L1Loss, SmoothL1Loss\n",
    "from src.train.customlossfunction import DiceLoss\n",
    "# loss_fn = BCEWithLogitsLoss()\n",
    "# loss_fn = L1Loss()\n",
    "# loss_fn = MSELoss()\n",
    "loss_fn = DiceLoss()\n",
    "# loss_fn = SmoothL1Loss()\n",
    "show_output = False\n",
    "infer_index = 2\n",
    "for epoch in range(1, epochs):\n",
    "    print(\"EPOCH:\", epoch)\n",
    "    \n",
    "    tr_out,train_loss, total_iou = train_model.train_Monocular(cnn_model, device, train_loader, optimizer, epoch, loss_fn, show_output, infer_index)\n",
    "    # ts_out, dice_loss = train_model.test_Monocular(cnn_model, device, test_loader, class_correct, class_total, epoch, lr_data, loss_fn, \n",
    "    #                                     show_output, infer_index)\n",
    "    \n",
    "    from src.utils.utils import Utils\n",
    "\n",
    "    Utils.show(tr_out.detach().cpu(), nrow=4)\n",
    "    # Utils.show(ts_out.detach().cpu(), nrow=4)\n",
    "    \n",
    "    scheduler.step(total_iou)\n",
    "\n",
    "    for param_groups in optimizer.param_groups:\n",
    "        print(\"Learning rate =\", param_groups['lr'], \" for epoch: \", epoch + 1)  # print LR for different epochs\n",
    "        lr_data.append(param_groups['lr'])"
   ]
  },
  {
   "cell_type": "code",
   "execution_count": null,
   "metadata": {
    "colab": {},
    "colab_type": "code",
    "id": "u83FZ4wq3KyM"
   },
   "outputs": [],
   "source": [
    "train_losses, train_acc = train_model.gettraindata()\n",
    "test_losses, test_acc = train_model.gettestdata()\n",
    "utils.Utils.savemodel(model=cnn_model, epoch=epochs, path=\"finalmodelwithdata-Mask-192k.pt\",\n",
    "                      optimizer_state_dict=optimizer.state_dict\n",
    "                      , train_losses=train_losses, train_acc=train_acc, test_acc=test_acc,\n",
    "                      test_losses=test_losses, lr_data=lr_data, class_correct=class_correct, class_total=class_total)"
   ]
  },
  {
   "cell_type": "code",
   "execution_count": null,
   "metadata": {
    "colab": {},
    "colab_type": "code",
    "id": "qsUwhSk03K5A"
   },
   "outputs": [],
   "source": [
    "train_transforms, test_transforms = preprochelper.PreprocHelper.getpytorchtransforms(image_net_mean, image_net_std)\n",
    "monocular_ds.set_transforms(train_transforms)\n",
    "optimizer = utils.Utils.createoptimizer(cnn_model, lr=0.01, momentum=0.9, weight_decay=1e-5)\n",
    "\n",
    "from torch.nn import CrossEntropyLoss, BCEWithLogitsLoss, MSELoss, L1Loss, SmoothL1Loss\n",
    "from src.train.customlossfunction import DiceLoss\n",
    "# loss_fn = BCEWithLogitsLoss()\n",
    "# loss_fn = L1Loss()\n",
    "# loss_fn = MSELoss()\n",
    "loss_fn = DiceLoss()\n",
    "# loss_fn = SmoothL1Loss()\n",
    "show_output = False\n",
    "infer_index = 2\n",
    "for epoch in range(1, epochs):\n",
    "    print(\"EPOCH:\", epoch)\n",
    "    \n",
    "    tr_out,train_loss, total_iou = train_model.train_Monocular(cnn_model, device, train_loader, optimizer, epoch, loss_fn, show_output, infer_index)\n",
    "    # ts_out, dice_loss = train_model.test_Monocular(cnn_model, device, test_loader, class_correct, class_total, epoch, lr_data, loss_fn, \n",
    "    #                                     show_output, infer_index)\n",
    "    \n",
    "    from src.utils.utils import Utils\n",
    "\n",
    "    Utils.show(tr_out.detach().cpu(), nrow=4)\n",
    "    # Utils.show(ts_out.detach().cpu(), nrow=4)\n",
    "    \n",
    "    scheduler.step(total_iou)\n",
    "\n",
    "    for param_groups in optimizer.param_groups:\n",
    "        print(\"Learning rate =\", param_groups['lr'], \" for epoch: \", epoch + 1)  # print LR for different epochs\n",
    "        lr_data.append(param_groups['lr'])"
   ]
  },
  {
   "cell_type": "code",
   "execution_count": null,
   "metadata": {
    "colab": {},
    "colab_type": "code",
    "id": "qUUrUR4F3K9k"
   },
   "outputs": [],
   "source": [
    "train_losses, train_acc = train_model.gettraindata()\n",
    "test_losses, test_acc = train_model.gettestdata()\n",
    "utils.Utils.savemodel(model=cnn_model, epoch=epochs, path=\"finalmodelwithdata-Mask-224k.pt\",\n",
    "                      optimizer_state_dict=optimizer.state_dict\n",
    "                      , train_losses=train_losses, train_acc=train_acc, test_acc=test_acc,\n",
    "                      test_losses=test_losses, lr_data=lr_data, class_correct=class_correct, class_total=class_total)"
   ]
  }
 ],
 "metadata": {
  "accelerator": "GPU",
  "colab": {
   "collapsed_sections": [],
   "machine_shape": "hm",
   "name": "A15-B-Mask-U.ipynb",
   "provenance": []
  },
  "kernelspec": {
   "display_name": "Python 3",
   "language": "python",
   "name": "python3"
  },
  "language_info": {
   "codemirror_mode": {
    "name": "ipython",
    "version": 3
   },
   "file_extension": ".py",
   "mimetype": "text/x-python",
   "name": "python",
   "nbconvert_exporter": "python",
   "pygments_lexer": "ipython3",
   "version": "3.8.2"
  },
  "pycharm": {
   "stem_cell": {
    "cell_type": "raw",
    "metadata": {
     "collapsed": false
    },
    "source": []
   }
  }
 },
 "nbformat": 4,
 "nbformat_minor": 4
}
