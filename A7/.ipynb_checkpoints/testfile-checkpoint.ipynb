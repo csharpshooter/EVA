{
 "cells": [
  {
   "cell_type": "code",
   "execution_count": null,
   "metadata": {},
   "outputs": [],
   "source": [
    "import src.dataset.dataset as dst\n",
    "import src.dataset.dataloader as dl\n",
    "import src.preprocessing.preprocessing as preprocessing\n",
    "import matplotlib.pyplot as plt\n",
    "import numpy as np\n",
    "import src.utils.utils as utils\n",
    "\n",
    "# %matplotlib inline"
   ]
  },
  {
   "cell_type": "code",
   "execution_count": null,
   "metadata": {},
   "outputs": [],
   "source": [
    "preproc = preprocessing.Preprocessing()\n",
    "\n",
    "train_transforms = preproc.gettraintransforms()\n",
    "test_transforms = preproc.gettesttransforms()\n",
    "\n",
    "ds = dst.Dataset()\n",
    "train_dataset = ds.gettraindataset(train_transforms)\n",
    "test_dataset = ds.gettestdataset(test_transforms)\n",
    "\n",
    "dataloader = dl.Cifar10Dataloader(traindataset=train_dataset, testdataset=test_dataset)\n",
    "\n",
    "train_loader = dataloader.gettraindataloader()\n",
    "test_loader = dataloader.gettestdataloader()\n",
    "\n",
    "# specify the image classes\n",
    "classes = ['airplane', 'automobile', 'bird', 'cat', 'deer',\n",
    "           'dog', 'frog', 'horse', 'ship', 'truck']\n",
    "\n",
    "# obtain one batch of training images\n",
    "dataiterator = iter(train_loader)\n",
    "images, labels = dataiterator.next()\n",
    "images = images.numpy()  # convert images to numpy for display\n",
    "\n",
    "# plot the images in the batch, along with the corresponding labels\n",
    "fig = plt.figure(figsize=(25, 4))\n",
    "# display 20 images\n",
    "for idx in np.arange(20):\n",
    "    ax = fig.add_subplot(2, 20 / 2, idx + 1, xticks=[], yticks=[])\n",
    "    utils.Utils.imshow(images[idx])\n",
    "    ax.set_title(classes[labels[idx]])"
   ]
  }
 ],
 "metadata": {
  "kernelspec": {
   "display_name": "Python3 (dl4cv)",
   "language": "python",
   "name": "dl4cv"
  },
  "language_info": {
   "codemirror_mode": {
    "name": "ipython",
    "version": 3
   },
   "file_extension": ".py",
   "mimetype": "text/x-python",
   "name": "python",
   "nbconvert_exporter": "python",
   "pygments_lexer": "ipython3",
   "version": "3.6.9"
  }
 },
 "nbformat": 4,
 "nbformat_minor": 4
}
