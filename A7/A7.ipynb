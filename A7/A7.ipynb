{
 "cells": [
  {
   "cell_type": "markdown",
   "metadata": {
    "colab_type": "text",
    "id": "aO-7t1Y7-hV4"
   },
   "source": [
    "# Import Libraries"
   ]
  },
  {
   "cell_type": "code",
   "execution_count": 1,
   "metadata": {
    "colab": {},
    "colab_type": "code",
    "id": "wePdX3_qnaPX",
    "outputId": "237a6280-f20c-4ccd-c5e0-a1bd1c0fab40"
   },
   "outputs": [
    {
     "name": "stdout",
     "output_type": "stream",
     "text": [
      "Model execution started at:Fri Mar  6 00:05:35 2020\n"
     ]
    }
   ],
   "source": [
    "import datetime\n",
    "print(\"Model execution started at:\" + datetime.datetime.today().ctime())"
   ]
  },
  {
   "cell_type": "code",
   "execution_count": 2,
   "metadata": {
    "colab": {
     "base_uri": "https://localhost:8080/",
     "height": 295
    },
    "colab_type": "code",
    "id": "Y4pGGPo0H7QM",
    "outputId": "1a9a47c7-c1d5-4223-dc03-a2d1a0168a66"
   },
   "outputs": [
    {
     "name": "stdout",
     "output_type": "stream",
     "text": [
      "Fri Mar  6 00:05:35 2020       \n",
      "+-----------------------------------------------------------------------------+\n",
      "| NVIDIA-SMI 440.59       Driver Version: 440.59       CUDA Version: 10.2     |\n",
      "|-------------------------------+----------------------+----------------------+\n",
      "| GPU  Name        Persistence-M| Bus-Id        Disp.A | Volatile Uncorr. ECC |\n",
      "| Fan  Temp  Perf  Pwr:Usage/Cap|         Memory-Usage | GPU-Util  Compute M. |\n",
      "|===============================+======================+======================|\n",
      "|   0  GeForce GTX 1070    Off  | 00000000:01:00.0  On |                  N/A |\n",
      "| N/A   74C    P3    29W /  N/A |   3415MiB /  8117MiB |      9%      Default |\n",
      "+-------------------------------+----------------------+----------------------+\n",
      "                                                                               \n",
      "+-----------------------------------------------------------------------------+\n",
      "| Processes:                                                       GPU Memory |\n",
      "|  GPU       PID   Type   Process name                             Usage      |\n",
      "|=============================================================================|\n",
      "|    0      1792      G   /usr/lib/xorg/Xorg                            18MiB |\n",
      "|    0      1864      G   /usr/bin/gnome-shell                          47MiB |\n",
      "|    0      2225      G   /usr/lib/xorg/Xorg                           212MiB |\n",
      "|    0      2379      G   /usr/bin/gnome-shell                         175MiB |\n",
      "|    0      2778      G   ...AAAAAAAAAAAAAAgAAAAAAAAA --shared-files   157MiB |\n",
      "|    0      3741      G   /snap/pycharm-community/179/jbr/bin/java       2MiB |\n",
      "|    0      5007      G   ...uest-channel-token=17365763635639569534    45MiB |\n",
      "|    0     21453      C   ...e/abhijit/.virtualenvs/dl4cv/bin/python  1469MiB |\n",
      "|    0     25372      C   ...e/abhijit/.virtualenvs/dl4cv/bin/python  1279MiB |\n",
      "+-----------------------------------------------------------------------------+\n"
     ]
    }
   ],
   "source": [
    "gpu_info = !nvidia-smi\n",
    "gpu_info = '\\n'.join(gpu_info)\n",
    "if gpu_info.find('failed') >= 0:\n",
    "  print('Select the Runtime → \"Change runtime type\" menu to enable a GPU accelerator, ')\n",
    "  print('and then re-execute this cell.')\n",
    "else:\n",
    "  print(gpu_info)"
   ]
  },
  {
   "cell_type": "code",
   "execution_count": 3,
   "metadata": {
    "colab": {},
    "colab_type": "code",
    "id": "aqLk2ZwYH9PQ"
   },
   "outputs": [],
   "source": [
    "# from psutil import virtual_memory\n",
    "# ram_gb = virtual_memory().total / 1e9\n",
    "# print('Your runtime has {:.1f} gigabytes of available RAM\\n'.format(ram_gb))\n",
    "\n",
    "# if ram_gb < 20:\n",
    "#   print('To enable a high-RAM runtime, select the Runtime → \"Change runtime type\"')\n",
    "#   print('menu, and then select High-RAM in the Runtime shape dropdown. Then, ')\n",
    "#   print('re-execute this cell.')\n",
    "# else:\n",
    "#   print('You are using a high-RAM runtime!')"
   ]
  },
  {
   "cell_type": "code",
   "execution_count": 4,
   "metadata": {
    "colab": {},
    "colab_type": "code",
    "id": "8kH16rnZ7wt_"
   },
   "outputs": [],
   "source": [
    "import src.dataset.dataset as dst\n",
    "import src.dataset.dataloader as dl\n",
    "import src.preprocessing.preprocessing as preprocessing\n",
    "import matplotlib.pyplot as plt\n",
    "import numpy as np\n",
    "import src.utils.utils as utils\n",
    "import src.models.train_model as train\n",
    "%matplotlib inline\n",
    "\n",
    "%config IPCompleter.greedy=True"
   ]
  },
  {
   "cell_type": "code",
   "execution_count": 5,
   "metadata": {
    "colab": {},
    "colab_type": "code",
    "id": "0k-00HKfnaPs",
    "outputId": "1f33be0b-c119-42c6-8554-6e0b7607841d"
   },
   "outputs": [
    {
     "name": "stdout",
     "output_type": "stream",
     "text": [
      "1.4.0\n"
     ]
    }
   ],
   "source": [
    "import torch\n",
    "print(torch.__version__)"
   ]
  },
  {
   "cell_type": "code",
   "execution_count": 6,
   "metadata": {
    "colab": {},
    "colab_type": "code",
    "id": "7ZuuPkUbnaPw"
   },
   "outputs": [],
   "source": [
    "preproc = preprocessing.Preprocessing()\n",
    "\n",
    "train_transforms = preproc.gettraintransforms()\n",
    "test_transforms = preproc.gettesttransforms()\n",
    "\n"
   ]
  },
  {
   "cell_type": "code",
   "execution_count": 7,
   "metadata": {
    "colab": {},
    "colab_type": "code",
    "id": "YtssFUKb-jqx"
   },
   "outputs": [
    {
     "name": "stdout",
     "output_type": "stream",
     "text": [
      "Files already downloaded and verified\n",
      "Files already downloaded and verified\n"
     ]
    }
   ],
   "source": [
    "ds = dst.Dataset()\n",
    "train_dataset = ds.gettraindataset(train_transforms)\n",
    "test_dataset = ds.gettestdataset(test_transforms)\n"
   ]
  },
  {
   "cell_type": "code",
   "execution_count": 8,
   "metadata": {
    "colab": {},
    "colab_type": "code",
    "id": "_4A84rlfDA23"
   },
   "outputs": [
    {
     "name": "stdout",
     "output_type": "stream",
     "text": [
      "CUDA Available? True\n",
      "256\n"
     ]
    }
   ],
   "source": [
    "dataloader = dl.Cifar10Dataloader(traindataset=train_dataset, testdataset=test_dataset)\n",
    "\n",
    "train_loader = dataloader.gettraindataloader()\n",
    "test_loader = dataloader.gettestdataloader()"
   ]
  },
  {
   "cell_type": "code",
   "execution_count": 9,
   "metadata": {
    "colab": {
     "base_uri": "https://localhost:8080/",
     "height": 34
    },
    "colab_type": "code",
    "id": "C8OLDR79DrHG",
    "outputId": "678f75da-f482-409d-f76e-36e1a3bbf54c"
   },
   "outputs": [
    {
     "data": {
      "image/png": "[encoded data removed]",
      "text/plain": [
       "<Figure size 1800x288 with 20 Axes>"
      ]
     },
     "metadata": {},
     "output_type": "display_data"
    }
   ],
   "source": [
    "# specify the image classes\n",
    "classes = ['airplane', 'automobile', 'bird', 'cat', 'deer',\n",
    "           'dog', 'frog', 'horse', 'ship', 'truck']\n",
    "\n",
    "# obtain one batch of training images\n",
    "dataiterator = iter(train_loader)\n",
    "images, labels = dataiterator.next()\n",
    "images = images.numpy()  # convert images to numpy for display\n",
    "\n",
    "# plot the images in the batch, along with the corresponding labels\n",
    "fig = plt.figure(figsize=(25, 4))\n",
    "# display 20 images\n",
    "for idx in np.arange(20):\n",
    "    ax = fig.add_subplot(2, 20 / 2, idx + 1, xticks=[], yticks=[])\n",
    "    utils.Utils.imshow(images[idx])\n",
    "    ax.set_title(classes[labels[idx]])"
   ]
  },
  {
   "cell_type": "code",
   "execution_count": 10,
   "metadata": {
    "colab": {
     "base_uri": "https://localhost:8080/",
     "height": 491
    },
    "colab_type": "code",
    "id": "hWZPPo3yEHDW",
    "outputId": "dc455d25-a1b9-4b97-d1cb-bbdc6c38399d"
   },
   "outputs": [
    {
     "name": "stdout",
     "output_type": "stream",
     "text": [
      "cuda\n",
      "----------------------------------------------------------------\n",
      "        Layer (type)               Output Shape         Param #\n",
      "================================================================\n",
      "            Conv2d-1           [-1, 32, 32, 32]             864\n",
      "       BatchNorm2d-2           [-1, 32, 32, 32]              64\n",
      "              ReLU-3           [-1, 32, 32, 32]               0\n",
      "           Dropout-4           [-1, 32, 32, 32]               0\n",
      "            Conv2d-5           [-1, 32, 32, 32]             288\n",
      "            Conv2d-6           [-1, 32, 32, 32]           1,056\n",
      "DepthwiseSeparableConv2d-7           [-1, 32, 32, 32]               0\n",
      "       BatchNorm2d-8           [-1, 32, 32, 32]              64\n",
      "              ReLU-9           [-1, 32, 32, 32]               0\n",
      "          Dropout-10           [-1, 32, 32, 32]               0\n",
      "           Conv2d-11           [-1, 64, 30, 30]          18,432\n",
      "      BatchNorm2d-12           [-1, 64, 30, 30]             128\n",
      "             ReLU-13           [-1, 64, 30, 30]               0\n",
      "          Dropout-14           [-1, 64, 30, 30]               0\n",
      "        MaxPool2d-15           [-1, 64, 15, 15]               0\n",
      "           Conv2d-16           [-1, 32, 15, 15]          18,432\n",
      "      BatchNorm2d-17           [-1, 32, 15, 15]              64\n",
      "             ReLU-18           [-1, 32, 15, 15]               0\n",
      "          Dropout-19           [-1, 32, 15, 15]               0\n",
      "           Conv2d-20           [-1, 32, 15, 15]             288\n",
      "           Conv2d-21           [-1, 32, 15, 15]           1,056\n",
      "DepthwiseSeparableConv2d-22           [-1, 32, 15, 15]               0\n",
      "      BatchNorm2d-23           [-1, 32, 15, 15]              64\n",
      "             ReLU-24           [-1, 32, 15, 15]               0\n",
      "          Dropout-25           [-1, 32, 15, 15]               0\n",
      "           Conv2d-26           [-1, 64, 13, 13]          18,432\n",
      "      BatchNorm2d-27           [-1, 64, 13, 13]             128\n",
      "             ReLU-28           [-1, 64, 13, 13]               0\n",
      "          Dropout-29           [-1, 64, 13, 13]               0\n",
      "        MaxPool2d-30             [-1, 64, 6, 6]               0\n",
      "           Conv2d-31             [-1, 32, 6, 6]          18,432\n",
      "      BatchNorm2d-32             [-1, 32, 6, 6]              64\n",
      "             ReLU-33             [-1, 32, 6, 6]               0\n",
      "          Dropout-34             [-1, 32, 6, 6]               0\n",
      "           Conv2d-35             [-1, 32, 6, 6]             288\n",
      "           Conv2d-36             [-1, 32, 6, 6]           1,056\n",
      "DepthwiseSeparableConv2d-37             [-1, 32, 6, 6]               0\n",
      "      BatchNorm2d-38             [-1, 32, 6, 6]              64\n",
      "             ReLU-39             [-1, 32, 6, 6]               0\n",
      "          Dropout-40             [-1, 32, 6, 6]               0\n",
      "           Conv2d-41             [-1, 64, 2, 2]          18,432\n",
      "      BatchNorm2d-42             [-1, 64, 2, 2]             128\n",
      "             ReLU-43             [-1, 64, 2, 2]               0\n",
      "          Dropout-44             [-1, 64, 2, 2]               0\n",
      "        AvgPool2d-45             [-1, 64, 1, 1]               0\n",
      "           Linear-46                   [-1, 10]             640\n",
      "================================================================\n",
      "Total params: 98,464\n",
      "Trainable params: 98,464\n",
      "Non-trainable params: 0\n",
      "----------------------------------------------------------------\n",
      "Input size (MB): 0.01\n",
      "Forward/backward pass size (MB): 5.36\n",
      "Params size (MB): 0.38\n",
      "Estimated Total Size (MB): 5.75\n",
      "----------------------------------------------------------------\n"
     ]
    }
   ],
   "source": [
    "cnn_model, device = utils.Utils.createmodel()\n",
    "train_model = train.TrainModel()\n",
    "train_model.showmodelsummary(cnn_model)"
   ]
  },
  {
   "cell_type": "code",
   "execution_count": 11,
   "metadata": {},
   "outputs": [],
   "source": [
    "optimizer = utils.Utils.createoptimizer(cnn_model, lr=0.1, momentum=0.9, weight_decay=0)\n",
    "scheduler = utils.Utils.createscheduler(optimizer, mode='max', factor=0.1, patience=5,\n",
    "                                        verbose=True)"
   ]
  },
  {
   "cell_type": "code",
   "execution_count": 12,
   "metadata": {
    "colab": {
     "base_uri": "https://localhost:8080/",
     "height": 246
    },
    "colab_type": "code",
    "id": "hXXAg8hbK16u",
    "outputId": "45faab6a-4a85-4846-be9f-5e4e2a29b61e",
    "scrolled": false
   },
   "outputs": [
    {
     "name": "stderr",
     "output_type": "stream",
     "text": [
      "\r",
      "  0%|          | 0/196 [00:00<?, ?it/s]"
     ]
    },
    {
     "name": "stdout",
     "output_type": "stream",
     "text": [
      "EPOCH: 0\n"
     ]
    },
    {
     "name": "stderr",
     "output_type": "stream",
     "text": [
      "/home/abhijit/.virtualenvs/dl4cv/lib/python3.6/site-packages/torch/nn/_reduction.py:43: UserWarning: size_average and reduce args will be deprecated, please use reduction='sum' instead.\n",
      "  warnings.warn(warning.format(ret))\n",
      "Loss=1.2981106042861938 Batch_id=195 Accuracy=43.44: 100%|██████████| 196/196 [00:27<00:00,  7.04it/s]\n",
      "  0%|          | 0/196 [00:00<?, ?it/s]"
     ]
    },
    {
     "name": "stdout",
     "output_type": "stream",
     "text": [
      "\n",
      "Test set: Average loss: 0.0060, Accuracy: 4557/10000 (45.57%)\n",
      "\n",
      "Learning rate = 0.1  for epoch:  1\n",
      "EPOCH: 1\n"
     ]
    },
    {
     "name": "stderr",
     "output_type": "stream",
     "text": [
      "Loss=0.9439867734909058 Batch_id=195 Accuracy=59.38: 100%|██████████| 196/196 [00:28<00:00,  6.99it/s]\n",
      "  0%|          | 0/196 [00:00<?, ?it/s]"
     ]
    },
    {
     "name": "stdout",
     "output_type": "stream",
     "text": [
      "\n",
      "Test set: Average loss: 0.0046, Accuracy: 5946/10000 (59.46%)\n",
      "\n",
      "Learning rate = 0.1  for epoch:  2\n",
      "EPOCH: 2\n"
     ]
    },
    {
     "name": "stderr",
     "output_type": "stream",
     "text": [
      "Loss=0.9468854665756226 Batch_id=195 Accuracy=64.93: 100%|██████████| 196/196 [00:28<00:00,  6.96it/s]\n",
      "  0%|          | 0/196 [00:00<?, ?it/s]"
     ]
    },
    {
     "name": "stdout",
     "output_type": "stream",
     "text": [
      "\n",
      "Test set: Average loss: 0.0041, Accuracy: 6376/10000 (63.76%)\n",
      "\n",
      "Learning rate = 0.1  for epoch:  3\n",
      "EPOCH: 3\n"
     ]
    },
    {
     "name": "stderr",
     "output_type": "stream",
     "text": [
      "Loss=0.7106153964996338 Batch_id=195 Accuracy=69.23: 100%|██████████| 196/196 [00:28<00:00,  6.95it/s]\n",
      "  0%|          | 0/196 [00:00<?, ?it/s]"
     ]
    },
    {
     "name": "stdout",
     "output_type": "stream",
     "text": [
      "\n",
      "Test set: Average loss: 0.0045, Accuracy: 6204/10000 (62.04%)\n",
      "\n",
      "Learning rate = 0.1  for epoch:  4\n",
      "EPOCH: 4\n"
     ]
    },
    {
     "name": "stderr",
     "output_type": "stream",
     "text": [
      "Loss=0.7971276044845581 Batch_id=195 Accuracy=71.49: 100%|██████████| 196/196 [00:28<00:00,  6.91it/s]\n",
      "  0%|          | 0/196 [00:00<?, ?it/s]"
     ]
    },
    {
     "name": "stdout",
     "output_type": "stream",
     "text": [
      "\n",
      "Test set: Average loss: 0.0038, Accuracy: 6650/10000 (66.50%)\n",
      "\n",
      "Learning rate = 0.1  for epoch:  5\n",
      "EPOCH: 5\n"
     ]
    },
    {
     "name": "stderr",
     "output_type": "stream",
     "text": [
      "Loss=0.5781725645065308 Batch_id=195 Accuracy=73.36: 100%|██████████| 196/196 [00:28<00:00,  6.89it/s]\n",
      "  0%|          | 0/196 [00:00<?, ?it/s]"
     ]
    },
    {
     "name": "stdout",
     "output_type": "stream",
     "text": [
      "\n",
      "Test set: Average loss: 0.0037, Accuracy: 6712/10000 (67.12%)\n",
      "\n",
      "Learning rate = 0.1  for epoch:  6\n",
      "EPOCH: 6\n"
     ]
    },
    {
     "name": "stderr",
     "output_type": "stream",
     "text": [
      "Loss=0.5577588081359863 Batch_id=195 Accuracy=74.96: 100%|██████████| 196/196 [00:28<00:00,  6.93it/s]\n",
      "  0%|          | 0/196 [00:00<?, ?it/s]"
     ]
    },
    {
     "name": "stdout",
     "output_type": "stream",
     "text": [
      "\n",
      "Test set: Average loss: 0.0030, Accuracy: 7374/10000 (73.74%)\n",
      "\n",
      "Learning rate = 0.1  for epoch:  7\n",
      "EPOCH: 7\n"
     ]
    },
    {
     "name": "stderr",
     "output_type": "stream",
     "text": [
      "Loss=0.6109167337417603 Batch_id=195 Accuracy=76.03: 100%|██████████| 196/196 [00:28<00:00,  6.90it/s] \n",
      "  0%|          | 0/196 [00:00<?, ?it/s]"
     ]
    },
    {
     "name": "stdout",
     "output_type": "stream",
     "text": [
      "\n",
      "Test set: Average loss: 0.0035, Accuracy: 7024/10000 (70.24%)\n",
      "\n",
      "Learning rate = 0.1  for epoch:  8\n",
      "EPOCH: 8\n"
     ]
    },
    {
     "name": "stderr",
     "output_type": "stream",
     "text": [
      "Loss=0.6185871958732605 Batch_id=195 Accuracy=76.91: 100%|██████████| 196/196 [00:28<00:00,  6.93it/s]\n",
      "  0%|          | 0/196 [00:00<?, ?it/s]"
     ]
    },
    {
     "name": "stdout",
     "output_type": "stream",
     "text": [
      "\n",
      "Test set: Average loss: 0.0032, Accuracy: 7302/10000 (73.02%)\n",
      "\n",
      "Learning rate = 0.1  for epoch:  9\n",
      "EPOCH: 9\n"
     ]
    },
    {
     "name": "stderr",
     "output_type": "stream",
     "text": [
      "Loss=1.0343682765960693 Batch_id=195 Accuracy=77.76: 100%|██████████| 196/196 [00:28<00:00,  6.87it/s]\n",
      "  0%|          | 0/196 [00:00<?, ?it/s]"
     ]
    },
    {
     "name": "stdout",
     "output_type": "stream",
     "text": [
      "\n",
      "Test set: Average loss: 0.0027, Accuracy: 7674/10000 (76.74%)\n",
      "\n",
      "Learning rate = 0.1  for epoch:  10\n",
      "EPOCH: 10\n"
     ]
    },
    {
     "name": "stderr",
     "output_type": "stream",
     "text": [
      "Loss=0.800312340259552 Batch_id=195 Accuracy=78.60: 100%|██████████| 196/196 [00:27<00:00,  7.09it/s] \n",
      "  0%|          | 0/196 [00:00<?, ?it/s]"
     ]
    },
    {
     "name": "stdout",
     "output_type": "stream",
     "text": [
      "\n",
      "Test set: Average loss: 0.0024, Accuracy: 7946/10000 (79.46%)\n",
      "\n",
      "Learning rate = 0.1  for epoch:  11\n",
      "EPOCH: 11\n"
     ]
    },
    {
     "name": "stderr",
     "output_type": "stream",
     "text": [
      "Loss=0.7250829935073853 Batch_id=195 Accuracy=78.85: 100%|██████████| 196/196 [00:26<00:00,  7.29it/s] \n",
      "  0%|          | 0/196 [00:00<?, ?it/s]"
     ]
    },
    {
     "name": "stdout",
     "output_type": "stream",
     "text": [
      "\n",
      "Test set: Average loss: 0.0025, Accuracy: 7876/10000 (78.76%)\n",
      "\n",
      "Learning rate = 0.1  for epoch:  12\n",
      "EPOCH: 12\n"
     ]
    },
    {
     "name": "stderr",
     "output_type": "stream",
     "text": [
      "Loss=0.46123331785202026 Batch_id=195 Accuracy=79.61: 100%|██████████| 196/196 [00:26<00:00,  7.29it/s]\n",
      "  0%|          | 0/196 [00:00<?, ?it/s]"
     ]
    },
    {
     "name": "stdout",
     "output_type": "stream",
     "text": [
      "\n",
      "Test set: Average loss: 0.0028, Accuracy: 7621/10000 (76.21%)\n",
      "\n",
      "Learning rate = 0.1  for epoch:  13\n",
      "EPOCH: 13\n"
     ]
    },
    {
     "name": "stderr",
     "output_type": "stream",
     "text": [
      "Loss=0.5793893337249756 Batch_id=195 Accuracy=80.07: 100%|██████████| 196/196 [00:27<00:00,  7.24it/s] \n",
      "  0%|          | 0/196 [00:00<?, ?it/s]"
     ]
    },
    {
     "name": "stdout",
     "output_type": "stream",
     "text": [
      "\n",
      "Test set: Average loss: 0.0027, Accuracy: 7639/10000 (76.39%)\n",
      "\n",
      "Learning rate = 0.1  for epoch:  14\n",
      "EPOCH: 14\n"
     ]
    },
    {
     "name": "stderr",
     "output_type": "stream",
     "text": [
      "Loss=0.7175480723381042 Batch_id=195 Accuracy=80.58: 100%|██████████| 196/196 [00:27<00:00,  7.24it/s] \n",
      "  0%|          | 0/196 [00:00<?, ?it/s]"
     ]
    },
    {
     "name": "stdout",
     "output_type": "stream",
     "text": [
      "\n",
      "Test set: Average loss: 0.0026, Accuracy: 7738/10000 (77.38%)\n",
      "\n",
      "Learning rate = 0.1  for epoch:  15\n",
      "EPOCH: 15\n"
     ]
    },
    {
     "name": "stderr",
     "output_type": "stream",
     "text": [
      "Loss=0.556304395198822 Batch_id=195 Accuracy=80.88: 100%|██████████| 196/196 [00:26<00:00,  7.29it/s]  \n",
      "  0%|          | 0/196 [00:00<?, ?it/s]"
     ]
    },
    {
     "name": "stdout",
     "output_type": "stream",
     "text": [
      "\n",
      "Test set: Average loss: 0.0026, Accuracy: 7848/10000 (78.48%)\n",
      "\n",
      "Learning rate = 0.1  for epoch:  16\n",
      "EPOCH: 16\n"
     ]
    },
    {
     "name": "stderr",
     "output_type": "stream",
     "text": [
      "Loss=0.549515962600708 Batch_id=195 Accuracy=81.25: 100%|██████████| 196/196 [00:27<00:00,  7.26it/s]  \n",
      "  0%|          | 0/196 [00:00<?, ?it/s]"
     ]
    },
    {
     "name": "stdout",
     "output_type": "stream",
     "text": [
      "\n",
      "Test set: Average loss: 0.0023, Accuracy: 8030/10000 (80.30%)\n",
      "\n",
      "Learning rate = 0.1  for epoch:  17\n",
      "EPOCH: 17\n"
     ]
    },
    {
     "name": "stderr",
     "output_type": "stream",
     "text": [
      "Loss=0.3635097146034241 Batch_id=195 Accuracy=81.56: 100%|██████████| 196/196 [00:27<00:00,  7.25it/s] \n",
      "  0%|          | 0/196 [00:00<?, ?it/s]"
     ]
    },
    {
     "name": "stdout",
     "output_type": "stream",
     "text": [
      "\n",
      "Test set: Average loss: 0.0023, Accuracy: 8015/10000 (80.15%)\n",
      "\n",
      "Learning rate = 0.1  for epoch:  18\n",
      "EPOCH: 18\n"
     ]
    },
    {
     "name": "stderr",
     "output_type": "stream",
     "text": [
      "Loss=0.4058503210544586 Batch_id=195 Accuracy=81.78: 100%|██████████| 196/196 [00:26<00:00,  7.26it/s] \n",
      "  0%|          | 0/196 [00:00<?, ?it/s]"
     ]
    },
    {
     "name": "stdout",
     "output_type": "stream",
     "text": [
      "\n",
      "Test set: Average loss: 0.0024, Accuracy: 7913/10000 (79.13%)\n",
      "\n",
      "Learning rate = 0.1  for epoch:  19\n",
      "EPOCH: 19\n"
     ]
    },
    {
     "name": "stderr",
     "output_type": "stream",
     "text": [
      "Loss=0.4942760467529297 Batch_id=195 Accuracy=82.06: 100%|██████████| 196/196 [00:29<00:00,  6.67it/s] \n",
      "  0%|          | 0/196 [00:00<?, ?it/s]"
     ]
    },
    {
     "name": "stdout",
     "output_type": "stream",
     "text": [
      "\n",
      "Test set: Average loss: 0.0022, Accuracy: 8064/10000 (80.64%)\n",
      "\n",
      "Learning rate = 0.1  for epoch:  20\n",
      "EPOCH: 20\n"
     ]
    },
    {
     "name": "stderr",
     "output_type": "stream",
     "text": [
      "Loss=0.41406765580177307 Batch_id=195 Accuracy=82.57: 100%|██████████| 196/196 [00:29<00:00,  6.67it/s]\n",
      "  0%|          | 0/196 [00:00<?, ?it/s]"
     ]
    },
    {
     "name": "stdout",
     "output_type": "stream",
     "text": [
      "\n",
      "Test set: Average loss: 0.0023, Accuracy: 8009/10000 (80.09%)\n",
      "\n",
      "Learning rate = 0.1  for epoch:  21\n",
      "EPOCH: 21\n"
     ]
    },
    {
     "name": "stderr",
     "output_type": "stream",
     "text": [
      "Loss=0.4402085244655609 Batch_id=195 Accuracy=82.69: 100%|██████████| 196/196 [00:28<00:00,  6.87it/s] \n",
      "  0%|          | 0/196 [00:00<?, ?it/s]"
     ]
    },
    {
     "name": "stdout",
     "output_type": "stream",
     "text": [
      "\n",
      "Test set: Average loss: 0.0023, Accuracy: 8002/10000 (80.02%)\n",
      "\n",
      "Learning rate = 0.1  for epoch:  22\n",
      "EPOCH: 22\n"
     ]
    },
    {
     "name": "stderr",
     "output_type": "stream",
     "text": [
      "Loss=0.42933154106140137 Batch_id=195 Accuracy=82.98: 100%|██████████| 196/196 [00:28<00:00,  6.96it/s]\n",
      "  0%|          | 0/196 [00:00<?, ?it/s]"
     ]
    },
    {
     "name": "stdout",
     "output_type": "stream",
     "text": [
      "\n",
      "Test set: Average loss: 0.0023, Accuracy: 8098/10000 (80.98%)\n",
      "\n",
      "Epoch    23: reducing learning rate of group 0 to 1.0000e-02.\n",
      "Learning rate = 0.010000000000000002  for epoch:  23\n",
      "EPOCH: 23\n"
     ]
    },
    {
     "name": "stderr",
     "output_type": "stream",
     "text": [
      "Loss=0.2647135853767395 Batch_id=195 Accuracy=84.99: 100%|██████████| 196/196 [00:28<00:00,  6.93it/s] \n",
      "  0%|          | 0/196 [00:00<?, ?it/s]"
     ]
    },
    {
     "name": "stdout",
     "output_type": "stream",
     "text": [
      "\n",
      "Test set: Average loss: 0.0021, Accuracy: 8260/10000 (82.60%)\n",
      "\n",
      "Learning rate = 0.010000000000000002  for epoch:  24\n",
      "EPOCH: 24\n"
     ]
    },
    {
     "name": "stderr",
     "output_type": "stream",
     "text": [
      "Loss=0.6584655046463013 Batch_id=195 Accuracy=85.23: 100%|██████████| 196/196 [00:29<00:00,  6.72it/s] \n"
     ]
    },
    {
     "name": "stdout",
     "output_type": "stream",
     "text": [
      "\n",
      "Test set: Average loss: 0.0020, Accuracy: 8283/10000 (82.83%)\n",
      "\n",
      "Learning rate = 0.010000000000000002  for epoch:  25\n"
     ]
    }
   ],
   "source": [
    "lr_data = []\n",
    "epochs = 25\n",
    "for epoch in range(0, epochs):\n",
    "    print(\"EPOCH:\", epoch)\n",
    "    train_model.train(cnn_model, device, train_loader, optimizer, 1)\n",
    "    t_acc_epoch = train_model.test(cnn_model, device, test_loader)\n",
    "    scheduler.step(t_acc_epoch)\n",
    "    for param_groups in optimizer.param_groups:\n",
    "        print(\"Learning rate =\", param_groups['lr'], \" for epoch: \", epoch + 1)  # print LR for different epochs\n",
    "        lr_data.append(param_groups['lr'])"
   ]
  },
  {
   "cell_type": "code",
   "execution_count": null,
   "metadata": {
    "colab": {},
    "colab_type": "code",
    "id": "8U-Tpdq3naQv"
   },
   "outputs": [],
   "source": []
  }
 ],
 "metadata": {
  "accelerator": "GPU",
  "colab": {
   "collapsed_sections": [],
   "include_colab_link": true,
   "name": "A6-L1L2Regularisation.ipynb",
   "provenance": []
  },
  "kernelspec": {
   "display_name": "Python3 (dl4cv)",
   "language": "python",
   "name": "dl4cv"
  },
  "language_info": {
   "codemirror_mode": {
    "name": "ipython",
    "version": 3
   },
   "file_extension": ".py",
   "mimetype": "text/x-python",
   "name": "python",
   "nbconvert_exporter": "python",
   "pygments_lexer": "ipython3",
   "version": "3.6.9"
  }
 },
 "nbformat": 4,
 "nbformat_minor": 1
}
